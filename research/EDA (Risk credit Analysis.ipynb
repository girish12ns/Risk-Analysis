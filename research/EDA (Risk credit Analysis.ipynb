{
 "cells": [
  {
   "cell_type": "markdown",
   "id": "36218989",
   "metadata": {},
   "source": [
    "#### PROBLEM STATEMENT\n",
    "    We have problem in lending the Credit  to barrowers, where they are able to pay back the money on time ,The goal of project \n",
    "    is to build predictive modeling for credit lenders that predicts the risk of lending the Money"
   ]
  },
  {
   "cell_type": "markdown",
   "id": "128dfa98",
   "metadata": {},
   "source": [
    "#### OBJECTIVE OF PROBLEM\n",
    "    By Building the predictive Modeling we can reducess the risk of credit lending  and help the organisation Business"
   ]
  },
  {
   "cell_type": "markdown",
   "id": "56e20537",
   "metadata": {},
   "source": [
    "# DATA DESCRIPTION:\n",
    "\n",
    "1.LoanNr_ChkDgt:\n",
    "    The unique Number of the loan application\n",
    "    \n",
    "2.Name:\n",
    "   Borrower name\n",
    "\n",
    "3.City:\n",
    "    City of Customer \n",
    "    \n",
    "4.State:\n",
    "    State of Customer \n",
    "    \n",
    "5 Bank:\n",
    "  Name of Bank which the customer has applied for the loan\n",
    "\n",
    "5.BankState:\n",
    "   In which state bank is located\n",
    "   \n",
    "6.NAICS:\n",
    "   North American Industry Classification System code\n",
    " \n",
    "7.ApprovalDate:\n",
    "   Date SBA commitment issued\n",
    "  \n",
    "8.ApprovalFY:\n",
    "   Fiscal year of commitment\n",
    "   \n",
    "9.Term:\n",
    "   Loan term in months\n",
    "\n",
    "10.NoEmp:\n",
    "   \tNumber of business employees\n",
    "    \n",
    "11.NewExist:\n",
    "    1 = Existing business, 2 = New business\n",
    "\n",
    "12.CreateJob :\n",
    "     Number of jobs created\n",
    "\n",
    "13.RetainedJob:\n",
    "   \tNumber of jobs retained\n",
    "    \n",
    "14.FranchiseCode:\n",
    "   Franchise code, (00000 or 00001) = No franchise\n",
    "   \n",
    "15.UrbanRural:\n",
    "   1 = Urban, 2 = rural, 0 = undefined\n",
    "   \n",
    "16.RevLineCr:\n",
    "   Revolving line of credit: Y = Yes, N = No\n",
    "   \n",
    "17.LowDoc:\n",
    "   LowDoc Loan Program: Y = Yes, N = No\n",
    "   \n",
    "18.ChgOffDate:\n",
    "   The date when a loan is declared to be in default\n",
    "   \n",
    "19.DisbursementDate:\n",
    "   Disbursement date\n",
    "   \n",
    "20.DisbursementGross:\n",
    "   Amount disbursed\n",
    "   \n",
    "21.BalanceGross:\n",
    "   Gross amount outstanding\n",
    "   \n",
    "22.MIS_Status:\n",
    "    Loan status charged off = CHGOFF, Paid in full =PIF\n",
    "    \n",
    "23.ChgOffPrinGr:\n",
    "   Charged-off amount\n",
    "\n",
    "24.GrAppv:\n",
    "   Gross amount of loan approved by bank\n",
    "   \n",
    "   \n",
    "25.SBA_Appv:\n",
    "   SBA’s guaranteed amount of approved loan\n"
   ]
  },
  {
   "cell_type": "markdown",
   "id": "255a87e2",
   "metadata": {},
   "source": [
    "##### STEPS OF PROJECT\n",
    "\n",
    "1.READING THE DATA\n",
    "\n",
    "2.DATA PREPARATION\n",
    "\n",
    "3.EDA\n",
    "\n",
    "4.HYPOTHESIS TESTING\n",
    "\n",
    "5.DATA PREPROCESSING\n",
    "\n",
    "6.MODEL BUIDING\n",
    "\n",
    "7.FEATURE SELECTION"
   ]
  },
  {
   "cell_type": "markdown",
   "id": "57d5d0d8",
   "metadata": {},
   "source": [
    "##### 1.READING THE DATA"
   ]
  },
  {
   "cell_type": "markdown",
   "id": "639420e2",
   "metadata": {},
   "source": [
    "##### 1.1 Importing basic packages"
   ]
  },
  {
   "cell_type": "code",
   "execution_count": 1,
   "id": "07b4a839",
   "metadata": {},
   "outputs": [],
   "source": [
    "import numpy as np\n",
    "import pandas as pd\n",
    "from numpy import median\n",
    "from numpy import std\n",
    "from numpy import mean\n",
    "from scipy.stats import mode\n",
    "import matplotlib.pyplot as plt\n",
    "import seaborn as sns\n",
    "from sklearn.model_selection import train_test_split\n",
    "from sklearn.preprocessing import StandardScaler,OneHotEncoder,OrdinalEncoder\n",
    "from sklearn.pipeline import Pipeline\n",
    "from sklearn.compose import ColumnTransformer\n",
    "import scipy.stats as stats\n",
    "import warnings\n",
    "warnings.filterwarnings('ignore', category=DeprecationWarning)"
   ]
  },
  {
   "cell_type": "markdown",
   "id": "b6e9b7e1",
   "metadata": {},
   "source": [
    "###### 1.2 loading the dataset"
   ]
  },
  {
   "cell_type": "code",
   "execution_count": 2,
   "id": "a800608c",
   "metadata": {},
   "outputs": [],
   "source": [
    "df=pd.read_csv('SBAnational.csv',low_memory=False)"
   ]
  },
  {
   "cell_type": "code",
   "execution_count": 3,
   "id": "97b7f408",
   "metadata": {},
   "outputs": [
    {
     "data": {
      "text/html": [
       "<div>\n",
       "<style scoped>\n",
       "    .dataframe tbody tr th:only-of-type {\n",
       "        vertical-align: middle;\n",
       "    }\n",
       "\n",
       "    .dataframe tbody tr th {\n",
       "        vertical-align: top;\n",
       "    }\n",
       "\n",
       "    .dataframe thead th {\n",
       "        text-align: right;\n",
       "    }\n",
       "</style>\n",
       "<table border=\"1\" class=\"dataframe\">\n",
       "  <thead>\n",
       "    <tr style=\"text-align: right;\">\n",
       "      <th></th>\n",
       "      <th>LoanNr_ChkDgt</th>\n",
       "      <th>Name</th>\n",
       "      <th>City</th>\n",
       "      <th>State</th>\n",
       "      <th>Zip</th>\n",
       "      <th>Bank</th>\n",
       "      <th>BankState</th>\n",
       "      <th>NAICS</th>\n",
       "      <th>ApprovalDate</th>\n",
       "      <th>ApprovalFY</th>\n",
       "      <th>...</th>\n",
       "      <th>RevLineCr</th>\n",
       "      <th>LowDoc</th>\n",
       "      <th>ChgOffDate</th>\n",
       "      <th>DisbursementDate</th>\n",
       "      <th>DisbursementGross</th>\n",
       "      <th>BalanceGross</th>\n",
       "      <th>MIS_Status</th>\n",
       "      <th>ChgOffPrinGr</th>\n",
       "      <th>GrAppv</th>\n",
       "      <th>SBA_Appv</th>\n",
       "    </tr>\n",
       "  </thead>\n",
       "  <tbody>\n",
       "    <tr>\n",
       "      <th>0</th>\n",
       "      <td>1000014003</td>\n",
       "      <td>ABC HOBBYCRAFT</td>\n",
       "      <td>EVANSVILLE</td>\n",
       "      <td>IN</td>\n",
       "      <td>47711</td>\n",
       "      <td>FIFTH THIRD BANK</td>\n",
       "      <td>OH</td>\n",
       "      <td>451120</td>\n",
       "      <td>28-Feb-97</td>\n",
       "      <td>1997</td>\n",
       "      <td>...</td>\n",
       "      <td>N</td>\n",
       "      <td>Y</td>\n",
       "      <td>NaN</td>\n",
       "      <td>28-Feb-99</td>\n",
       "      <td>$60,000.00</td>\n",
       "      <td>$0.00</td>\n",
       "      <td>P I F</td>\n",
       "      <td>$0.00</td>\n",
       "      <td>$60,000.00</td>\n",
       "      <td>$48,000.00</td>\n",
       "    </tr>\n",
       "    <tr>\n",
       "      <th>1</th>\n",
       "      <td>1000024006</td>\n",
       "      <td>LANDMARK BAR &amp; GRILLE (THE)</td>\n",
       "      <td>NEW PARIS</td>\n",
       "      <td>IN</td>\n",
       "      <td>46526</td>\n",
       "      <td>1ST SOURCE BANK</td>\n",
       "      <td>IN</td>\n",
       "      <td>722410</td>\n",
       "      <td>28-Feb-97</td>\n",
       "      <td>1997</td>\n",
       "      <td>...</td>\n",
       "      <td>N</td>\n",
       "      <td>Y</td>\n",
       "      <td>NaN</td>\n",
       "      <td>31-May-97</td>\n",
       "      <td>$40,000.00</td>\n",
       "      <td>$0.00</td>\n",
       "      <td>P I F</td>\n",
       "      <td>$0.00</td>\n",
       "      <td>$40,000.00</td>\n",
       "      <td>$32,000.00</td>\n",
       "    </tr>\n",
       "    <tr>\n",
       "      <th>2</th>\n",
       "      <td>1000034009</td>\n",
       "      <td>WHITLOCK DDS, TODD M.</td>\n",
       "      <td>BLOOMINGTON</td>\n",
       "      <td>IN</td>\n",
       "      <td>47401</td>\n",
       "      <td>GRANT COUNTY STATE BANK</td>\n",
       "      <td>IN</td>\n",
       "      <td>621210</td>\n",
       "      <td>28-Feb-97</td>\n",
       "      <td>1997</td>\n",
       "      <td>...</td>\n",
       "      <td>N</td>\n",
       "      <td>N</td>\n",
       "      <td>NaN</td>\n",
       "      <td>31-Dec-97</td>\n",
       "      <td>$287,000.00</td>\n",
       "      <td>$0.00</td>\n",
       "      <td>P I F</td>\n",
       "      <td>$0.00</td>\n",
       "      <td>$287,000.00</td>\n",
       "      <td>$215,250.00</td>\n",
       "    </tr>\n",
       "    <tr>\n",
       "      <th>3</th>\n",
       "      <td>1000044001</td>\n",
       "      <td>BIG BUCKS PAWN &amp; JEWELRY, LLC</td>\n",
       "      <td>BROKEN ARROW</td>\n",
       "      <td>OK</td>\n",
       "      <td>74012</td>\n",
       "      <td>1ST NATL BK &amp; TR CO OF BROKEN</td>\n",
       "      <td>OK</td>\n",
       "      <td>0</td>\n",
       "      <td>28-Feb-97</td>\n",
       "      <td>1997</td>\n",
       "      <td>...</td>\n",
       "      <td>N</td>\n",
       "      <td>Y</td>\n",
       "      <td>NaN</td>\n",
       "      <td>30-Jun-97</td>\n",
       "      <td>$35,000.00</td>\n",
       "      <td>$0.00</td>\n",
       "      <td>P I F</td>\n",
       "      <td>$0.00</td>\n",
       "      <td>$35,000.00</td>\n",
       "      <td>$28,000.00</td>\n",
       "    </tr>\n",
       "    <tr>\n",
       "      <th>4</th>\n",
       "      <td>1000054004</td>\n",
       "      <td>ANASTASIA CONFECTIONS, INC.</td>\n",
       "      <td>ORLANDO</td>\n",
       "      <td>FL</td>\n",
       "      <td>32801</td>\n",
       "      <td>FLORIDA BUS. DEVEL CORP</td>\n",
       "      <td>FL</td>\n",
       "      <td>0</td>\n",
       "      <td>28-Feb-97</td>\n",
       "      <td>1997</td>\n",
       "      <td>...</td>\n",
       "      <td>N</td>\n",
       "      <td>N</td>\n",
       "      <td>NaN</td>\n",
       "      <td>14-May-97</td>\n",
       "      <td>$229,000.00</td>\n",
       "      <td>$0.00</td>\n",
       "      <td>P I F</td>\n",
       "      <td>$0.00</td>\n",
       "      <td>$229,000.00</td>\n",
       "      <td>$229,000.00</td>\n",
       "    </tr>\n",
       "  </tbody>\n",
       "</table>\n",
       "<p>5 rows × 27 columns</p>\n",
       "</div>"
      ],
      "text/plain": [
       "   LoanNr_ChkDgt                           Name          City State    Zip  \\\n",
       "0     1000014003                 ABC HOBBYCRAFT    EVANSVILLE    IN  47711   \n",
       "1     1000024006    LANDMARK BAR & GRILLE (THE)     NEW PARIS    IN  46526   \n",
       "2     1000034009          WHITLOCK DDS, TODD M.   BLOOMINGTON    IN  47401   \n",
       "3     1000044001  BIG BUCKS PAWN & JEWELRY, LLC  BROKEN ARROW    OK  74012   \n",
       "4     1000054004    ANASTASIA CONFECTIONS, INC.       ORLANDO    FL  32801   \n",
       "\n",
       "                            Bank BankState   NAICS ApprovalDate ApprovalFY  \\\n",
       "0               FIFTH THIRD BANK        OH  451120    28-Feb-97       1997   \n",
       "1                1ST SOURCE BANK        IN  722410    28-Feb-97       1997   \n",
       "2        GRANT COUNTY STATE BANK        IN  621210    28-Feb-97       1997   \n",
       "3  1ST NATL BK & TR CO OF BROKEN        OK       0    28-Feb-97       1997   \n",
       "4        FLORIDA BUS. DEVEL CORP        FL       0    28-Feb-97       1997   \n",
       "\n",
       "   ...  RevLineCr  LowDoc  ChgOffDate  DisbursementDate  DisbursementGross  \\\n",
       "0  ...          N       Y         NaN         28-Feb-99        $60,000.00    \n",
       "1  ...          N       Y         NaN         31-May-97        $40,000.00    \n",
       "2  ...          N       N         NaN         31-Dec-97       $287,000.00    \n",
       "3  ...          N       Y         NaN         30-Jun-97        $35,000.00    \n",
       "4  ...          N       N         NaN         14-May-97       $229,000.00    \n",
       "\n",
       "   BalanceGross  MIS_Status ChgOffPrinGr        GrAppv      SBA_Appv  \n",
       "0        $0.00        P I F       $0.00    $60,000.00    $48,000.00   \n",
       "1        $0.00        P I F       $0.00    $40,000.00    $32,000.00   \n",
       "2        $0.00        P I F       $0.00   $287,000.00   $215,250.00   \n",
       "3        $0.00        P I F       $0.00    $35,000.00    $28,000.00   \n",
       "4        $0.00        P I F       $0.00   $229,000.00   $229,000.00   \n",
       "\n",
       "[5 rows x 27 columns]"
      ]
     },
     "execution_count": 3,
     "metadata": {},
     "output_type": "execute_result"
    }
   ],
   "source": [
    "df.head()"
   ]
  },
  {
   "cell_type": "code",
   "execution_count": 4,
   "id": "6fef578c",
   "metadata": {},
   "outputs": [
    {
     "name": "stdout",
     "output_type": "stream",
     "text": [
      "The total number of rows are 899164\n",
      "The total number of columns are 27\n"
     ]
    }
   ],
   "source": [
    "#check the shape of dataset\n",
    "print(\"The total number of rows are {}\".format(df.shape[0]))\n",
    "print(\"The total number of columns are {}\".format(df.shape[1]))"
   ]
  },
  {
   "cell_type": "code",
   "execution_count": 5,
   "id": "4378af62",
   "metadata": {},
   "outputs": [
    {
     "name": "stdout",
     "output_type": "stream",
     "text": [
      "<class 'pandas.core.frame.DataFrame'>\n",
      "RangeIndex: 899164 entries, 0 to 899163\n",
      "Data columns (total 27 columns):\n",
      " #   Column             Non-Null Count   Dtype  \n",
      "---  ------             --------------   -----  \n",
      " 0   LoanNr_ChkDgt      899164 non-null  int64  \n",
      " 1   Name               899150 non-null  object \n",
      " 2   City               899134 non-null  object \n",
      " 3   State              899150 non-null  object \n",
      " 4   Zip                899164 non-null  int64  \n",
      " 5   Bank               897605 non-null  object \n",
      " 6   BankState          897598 non-null  object \n",
      " 7   NAICS              899164 non-null  int64  \n",
      " 8   ApprovalDate       899164 non-null  object \n",
      " 9   ApprovalFY         899164 non-null  object \n",
      " 10  Term               899164 non-null  int64  \n",
      " 11  NoEmp              899164 non-null  int64  \n",
      " 12  NewExist           899028 non-null  float64\n",
      " 13  CreateJob          899164 non-null  int64  \n",
      " 14  RetainedJob        899164 non-null  int64  \n",
      " 15  FranchiseCode      899164 non-null  int64  \n",
      " 16  UrbanRural         899164 non-null  int64  \n",
      " 17  RevLineCr          894636 non-null  object \n",
      " 18  LowDoc             896582 non-null  object \n",
      " 19  ChgOffDate         162699 non-null  object \n",
      " 20  DisbursementDate   896796 non-null  object \n",
      " 21  DisbursementGross  899164 non-null  object \n",
      " 22  BalanceGross       899164 non-null  object \n",
      " 23  MIS_Status         897167 non-null  object \n",
      " 24  ChgOffPrinGr       899164 non-null  object \n",
      " 25  GrAppv             899164 non-null  object \n",
      " 26  SBA_Appv           899164 non-null  object \n",
      "dtypes: float64(1), int64(9), object(17)\n",
      "memory usage: 185.2+ MB\n"
     ]
    }
   ],
   "source": [
    "#check the datypes of datset\n",
    "df.info()"
   ]
  },
  {
   "cell_type": "code",
   "execution_count": 6,
   "id": "19425738",
   "metadata": {},
   "outputs": [
    {
     "data": {
      "text/plain": [
       "Index(['LoanNr_ChkDgt', 'Name', 'City', 'State', 'Zip', 'Bank', 'BankState',\n",
       "       'NAICS', 'ApprovalDate', 'ApprovalFY', 'Term', 'NoEmp', 'NewExist',\n",
       "       'CreateJob', 'RetainedJob', 'FranchiseCode', 'UrbanRural', 'RevLineCr',\n",
       "       'LowDoc', 'ChgOffDate', 'DisbursementDate', 'DisbursementGross',\n",
       "       'BalanceGross', 'MIS_Status', 'ChgOffPrinGr', 'GrAppv', 'SBA_Appv'],\n",
       "      dtype='object')"
      ]
     },
     "execution_count": 6,
     "metadata": {},
     "output_type": "execute_result"
    }
   ],
   "source": [
    "#check the columns\n",
    "df.columns"
   ]
  },
  {
   "cell_type": "code",
   "execution_count": 7,
   "id": "e2315772",
   "metadata": {},
   "outputs": [
    {
     "data": {
      "text/plain": [
       "LoanNr_ChkDgt             0\n",
       "Name                     14\n",
       "City                     30\n",
       "State                    14\n",
       "Zip                       0\n",
       "Bank                   1559\n",
       "BankState              1566\n",
       "NAICS                     0\n",
       "ApprovalDate              0\n",
       "ApprovalFY                0\n",
       "Term                      0\n",
       "NoEmp                     0\n",
       "NewExist                136\n",
       "CreateJob                 0\n",
       "RetainedJob               0\n",
       "FranchiseCode             0\n",
       "UrbanRural                0\n",
       "RevLineCr              4528\n",
       "LowDoc                 2582\n",
       "ChgOffDate           736465\n",
       "DisbursementDate       2368\n",
       "DisbursementGross         0\n",
       "BalanceGross              0\n",
       "MIS_Status             1997\n",
       "ChgOffPrinGr              0\n",
       "GrAppv                    0\n",
       "SBA_Appv                  0\n",
       "dtype: int64"
      ]
     },
     "execution_count": 7,
     "metadata": {},
     "output_type": "execute_result"
    }
   ],
   "source": [
    "#check the null values in dataset\n",
    "df.isnull().sum()"
   ]
  },
  {
   "cell_type": "markdown",
   "id": "ed8b739d",
   "metadata": {},
   "source": [
    "###### Observation:\n",
    "    Below columns have null values\n",
    "    1.Name \n",
    "    2.City\n",
    "    3.State \n",
    "    4.Bank \n",
    "    5.BankState    \n",
    "    5.NewExist\n",
    "    6.RevLineCr\n",
    "    7.LowDoc\n",
    "    8.ChgOffDate\n",
    "    9.DisbursementDate\n",
    "    10.MIS_Status "
   ]
  },
  {
   "cell_type": "code",
   "execution_count": 8,
   "id": "17578599",
   "metadata": {},
   "outputs": [
    {
     "data": {
      "text/plain": [
       "0"
      ]
     },
     "execution_count": 8,
     "metadata": {},
     "output_type": "execute_result"
    }
   ],
   "source": [
    "#check the duplicates\n",
    "df.duplicated().sum()"
   ]
  },
  {
   "cell_type": "markdown",
   "id": "5665d06a",
   "metadata": {},
   "source": [
    "###### Observation:\n",
    "    No duplicates availables"
   ]
  },
  {
   "cell_type": "code",
   "execution_count": 9,
   "id": "cc9f15fd",
   "metadata": {},
   "outputs": [
    {
     "data": {
      "text/html": [
       "<div>\n",
       "<style scoped>\n",
       "    .dataframe tbody tr th:only-of-type {\n",
       "        vertical-align: middle;\n",
       "    }\n",
       "\n",
       "    .dataframe tbody tr th {\n",
       "        vertical-align: top;\n",
       "    }\n",
       "\n",
       "    .dataframe thead th {\n",
       "        text-align: right;\n",
       "    }\n",
       "</style>\n",
       "<table border=\"1\" class=\"dataframe\">\n",
       "  <thead>\n",
       "    <tr style=\"text-align: right;\">\n",
       "      <th></th>\n",
       "      <th>LoanNr_ChkDgt</th>\n",
       "      <th>Zip</th>\n",
       "      <th>NAICS</th>\n",
       "      <th>Term</th>\n",
       "      <th>NoEmp</th>\n",
       "      <th>NewExist</th>\n",
       "      <th>CreateJob</th>\n",
       "      <th>RetainedJob</th>\n",
       "      <th>FranchiseCode</th>\n",
       "      <th>UrbanRural</th>\n",
       "    </tr>\n",
       "  </thead>\n",
       "  <tbody>\n",
       "    <tr>\n",
       "      <th>count</th>\n",
       "      <td>8.991640e+05</td>\n",
       "      <td>899164.000000</td>\n",
       "      <td>899164.000000</td>\n",
       "      <td>899164.000000</td>\n",
       "      <td>899164.000000</td>\n",
       "      <td>899028.000000</td>\n",
       "      <td>899164.000000</td>\n",
       "      <td>899164.000000</td>\n",
       "      <td>899164.000000</td>\n",
       "      <td>899164.000000</td>\n",
       "    </tr>\n",
       "    <tr>\n",
       "      <th>mean</th>\n",
       "      <td>4.772612e+09</td>\n",
       "      <td>53804.391241</td>\n",
       "      <td>398660.950146</td>\n",
       "      <td>110.773078</td>\n",
       "      <td>11.411353</td>\n",
       "      <td>1.280404</td>\n",
       "      <td>8.430376</td>\n",
       "      <td>10.797257</td>\n",
       "      <td>2753.725933</td>\n",
       "      <td>0.757748</td>\n",
       "    </tr>\n",
       "    <tr>\n",
       "      <th>std</th>\n",
       "      <td>2.538175e+09</td>\n",
       "      <td>31184.159152</td>\n",
       "      <td>263318.312759</td>\n",
       "      <td>78.857305</td>\n",
       "      <td>74.108196</td>\n",
       "      <td>0.451750</td>\n",
       "      <td>236.688165</td>\n",
       "      <td>237.120600</td>\n",
       "      <td>12758.019136</td>\n",
       "      <td>0.646436</td>\n",
       "    </tr>\n",
       "    <tr>\n",
       "      <th>min</th>\n",
       "      <td>1.000014e+09</td>\n",
       "      <td>0.000000</td>\n",
       "      <td>0.000000</td>\n",
       "      <td>0.000000</td>\n",
       "      <td>0.000000</td>\n",
       "      <td>0.000000</td>\n",
       "      <td>0.000000</td>\n",
       "      <td>0.000000</td>\n",
       "      <td>0.000000</td>\n",
       "      <td>0.000000</td>\n",
       "    </tr>\n",
       "    <tr>\n",
       "      <th>25%</th>\n",
       "      <td>2.589758e+09</td>\n",
       "      <td>27587.000000</td>\n",
       "      <td>235210.000000</td>\n",
       "      <td>60.000000</td>\n",
       "      <td>2.000000</td>\n",
       "      <td>1.000000</td>\n",
       "      <td>0.000000</td>\n",
       "      <td>0.000000</td>\n",
       "      <td>1.000000</td>\n",
       "      <td>0.000000</td>\n",
       "    </tr>\n",
       "    <tr>\n",
       "      <th>50%</th>\n",
       "      <td>4.361439e+09</td>\n",
       "      <td>55410.000000</td>\n",
       "      <td>445310.000000</td>\n",
       "      <td>84.000000</td>\n",
       "      <td>4.000000</td>\n",
       "      <td>1.000000</td>\n",
       "      <td>0.000000</td>\n",
       "      <td>1.000000</td>\n",
       "      <td>1.000000</td>\n",
       "      <td>1.000000</td>\n",
       "    </tr>\n",
       "    <tr>\n",
       "      <th>75%</th>\n",
       "      <td>6.904627e+09</td>\n",
       "      <td>83704.000000</td>\n",
       "      <td>561730.000000</td>\n",
       "      <td>120.000000</td>\n",
       "      <td>10.000000</td>\n",
       "      <td>2.000000</td>\n",
       "      <td>1.000000</td>\n",
       "      <td>4.000000</td>\n",
       "      <td>1.000000</td>\n",
       "      <td>1.000000</td>\n",
       "    </tr>\n",
       "    <tr>\n",
       "      <th>max</th>\n",
       "      <td>9.996003e+09</td>\n",
       "      <td>99999.000000</td>\n",
       "      <td>928120.000000</td>\n",
       "      <td>569.000000</td>\n",
       "      <td>9999.000000</td>\n",
       "      <td>2.000000</td>\n",
       "      <td>8800.000000</td>\n",
       "      <td>9500.000000</td>\n",
       "      <td>99999.000000</td>\n",
       "      <td>2.000000</td>\n",
       "    </tr>\n",
       "  </tbody>\n",
       "</table>\n",
       "</div>"
      ],
      "text/plain": [
       "       LoanNr_ChkDgt            Zip          NAICS           Term  \\\n",
       "count   8.991640e+05  899164.000000  899164.000000  899164.000000   \n",
       "mean    4.772612e+09   53804.391241  398660.950146     110.773078   \n",
       "std     2.538175e+09   31184.159152  263318.312759      78.857305   \n",
       "min     1.000014e+09       0.000000       0.000000       0.000000   \n",
       "25%     2.589758e+09   27587.000000  235210.000000      60.000000   \n",
       "50%     4.361439e+09   55410.000000  445310.000000      84.000000   \n",
       "75%     6.904627e+09   83704.000000  561730.000000     120.000000   \n",
       "max     9.996003e+09   99999.000000  928120.000000     569.000000   \n",
       "\n",
       "               NoEmp       NewExist      CreateJob    RetainedJob  \\\n",
       "count  899164.000000  899028.000000  899164.000000  899164.000000   \n",
       "mean       11.411353       1.280404       8.430376      10.797257   \n",
       "std        74.108196       0.451750     236.688165     237.120600   \n",
       "min         0.000000       0.000000       0.000000       0.000000   \n",
       "25%         2.000000       1.000000       0.000000       0.000000   \n",
       "50%         4.000000       1.000000       0.000000       1.000000   \n",
       "75%        10.000000       2.000000       1.000000       4.000000   \n",
       "max      9999.000000       2.000000    8800.000000    9500.000000   \n",
       "\n",
       "       FranchiseCode     UrbanRural  \n",
       "count  899164.000000  899164.000000  \n",
       "mean     2753.725933       0.757748  \n",
       "std     12758.019136       0.646436  \n",
       "min         0.000000       0.000000  \n",
       "25%         1.000000       0.000000  \n",
       "50%         1.000000       1.000000  \n",
       "75%         1.000000       1.000000  \n",
       "max     99999.000000       2.000000  "
      ]
     },
     "execution_count": 9,
     "metadata": {},
     "output_type": "execute_result"
    }
   ],
   "source": [
    "#check the stastics summary of the data\n",
    "df.describe()"
   ]
  },
  {
   "cell_type": "markdown",
   "id": "fa730ae5",
   "metadata": {},
   "source": [
    "###### Observation:\n",
    "    1.The highest Tenure of loan is 569 months and average tenure of loa is 111 months\n",
    "    2. Some barrowers created 8800 jobs that is massive\n",
    "    3.Average Barrowers employees are 11 and highest is 9999 , by this many big companies have barrowed money\n",
    "    4.Avg jobs retainedare 11 and highest is 9500 ,by this there is huge outliers in feature\n",
    "    \n",
    "     "
   ]
  },
  {
   "cell_type": "markdown",
   "id": "fb1a7cba",
   "metadata": {},
   "source": [
    "## 2. Data cleaning"
   ]
  },
  {
   "cell_type": "code",
   "execution_count": 10,
   "id": "025c79af",
   "metadata": {},
   "outputs": [],
   "source": [
    "#segregate the dataset by numerical columns and categorical datatypes\n",
    "categorical_features=df.select_dtypes(include='O').columns\n",
    "numerical_features=df.select_dtypes(exclude='O').columns"
   ]
  },
  {
   "cell_type": "code",
   "execution_count": 11,
   "id": "8d6517bd",
   "metadata": {
    "scrolled": false
   },
   "outputs": [
    {
     "name": "stdout",
     "output_type": "stream",
     "text": [
      "Name\n",
      "SUBWAY                            1269\n",
      "QUIZNO'S SUBS                      433\n",
      "COLD STONE CREAMERY                366\n",
      "QUIZNO'S                           345\n",
      "DOMINO'S PIZZA                     329\n",
      "                                  ... \n",
      "Mohammad N. Hassan (epc) for C       1\n",
      "N.J. Yellow Tale Flower              1\n",
      "CEF INC.                             1\n",
      "SCANNELL AND ASSOCIATES LP           1\n",
      "PACIFIC TRADEWINDS FAN & LIGHT       1\n",
      "Name: Name, Length: 779584, dtype: int64\n",
      "====================\n",
      "City\n",
      "LOS ANGELES                       11558\n",
      "HOUSTON                           10247\n",
      "NEW YORK                           7846\n",
      "CHICAGO                            6036\n",
      "MIAMI                              5594\n",
      "                                  ...  \n",
      "EL DORADO SPRINGS (ELDORADO SP        1\n",
      "HUNTINDON                             1\n",
      "LEBAHON                               1\n",
      "WILLOW RIVER                          1\n",
      "SO. OZONE PARK                        1\n",
      "Name: City, Length: 32582, dtype: int64\n",
      "====================\n",
      "State\n",
      "CA     130619\n",
      "TX      70458\n",
      "NY      57693\n",
      "FL      41212\n",
      "PA      35170\n",
      "OH      32622\n",
      "IL      29669\n",
      "MA      25272\n",
      "MN      24373\n",
      "NJ      24035\n",
      "WA      23263\n",
      "GA      22277\n",
      "WI      21040\n",
      "MO      20678\n",
      "CO      20605\n",
      "MI      20545\n",
      "UT      18776\n",
      "AZ      17631\n",
      "NC      14294\n",
      "IN      14132\n",
      "MD      13269\n",
      "VA      13264\n",
      "CT      12229\n",
      "NH      12109\n",
      "IA      11996\n",
      "KS      11464\n",
      "OR      11051\n",
      "OK       9950\n",
      "LA       9576\n",
      "ID       9498\n",
      "TN       9403\n",
      "RI       9028\n",
      "MT       8749\n",
      "AL       8362\n",
      "NV       8024\n",
      "KY       7723\n",
      "MS       7686\n",
      "NE       6386\n",
      "AR       6341\n",
      "NM       6033\n",
      "ME       5944\n",
      "SC       5597\n",
      "VT       5454\n",
      "ND       5245\n",
      "SD       4431\n",
      "HI       3610\n",
      "WV       3287\n",
      "WY       2839\n",
      "AK       2405\n",
      "DE       2220\n",
      "DC       1613\n",
      "NaN        14\n",
      "Name: State, dtype: int64\n",
      "====================\n",
      "Bank\n",
      "BANK OF AMERICA NATL ASSOC        86853\n",
      "WELLS FARGO BANK NATL ASSOC       63503\n",
      "JPMORGAN CHASE BANK NATL ASSOC    48167\n",
      "U.S. BANK NATIONAL ASSOCIATION    35143\n",
      "CITIZENS BANK NATL ASSOC          35054\n",
      "                                  ...  \n",
      "5 STAR BANK                           1\n",
      "LIVERPOOL COMMUNITY BANK              1\n",
      "BUCKEYE STATE CU INC                  1\n",
      "WATERFORD BANK NATL ASSOC             1\n",
      "DEPCO                                 1\n",
      "Name: Bank, Length: 5803, dtype: int64\n",
      "====================\n",
      "BankState\n",
      "CA     118116\n",
      "NC      79514\n",
      "IL      65908\n",
      "OH      58461\n",
      "SD      51095\n",
      "TX      47790\n",
      "RI      45366\n",
      "NY      39592\n",
      "VA      29002\n",
      "DE      24537\n",
      "MN      19960\n",
      "UT      18997\n",
      "PA      17081\n",
      "WI      15416\n",
      "MO      14861\n",
      "MA      13913\n",
      "GA      13812\n",
      "FL      13810\n",
      "AL      12134\n",
      "OR      11374\n",
      "WA      10693\n",
      "CO      10582\n",
      "CT       9917\n",
      "IA       9866\n",
      "NJ       9436\n",
      "KS       8876\n",
      "MT       7860\n",
      "IN       7623\n",
      "SC       7472\n",
      "MI       7369\n",
      "OK       7326\n",
      "MD       7016\n",
      "NH       6807\n",
      "AR       6322\n",
      "MS       5942\n",
      "TN       5620\n",
      "NE       5337\n",
      "ND       5113\n",
      "LA       5062\n",
      "VT       4757\n",
      "NM       4422\n",
      "KY       4382\n",
      "NV       4325\n",
      "ID       4314\n",
      "DC       4003\n",
      "AZ       3957\n",
      "ME       3691\n",
      "HI       2991\n",
      "WY       2168\n",
      "WV       2007\n",
      "NaN      1566\n",
      "AK       1439\n",
      "PR        156\n",
      "GU          5\n",
      "AN          1\n",
      "EN          1\n",
      "VI          1\n",
      "Name: BankState, dtype: int64\n",
      "====================\n",
      "ApprovalDate\n",
      "7-Jul-93     1131\n",
      "30-Jan-04    1032\n",
      "8-Jul-93      780\n",
      "4-Oct-04      658\n",
      "30-Sep-03     608\n",
      "             ... \n",
      "29-May-75       1\n",
      "21-Feb-75       1\n",
      "25-Apr-67       1\n",
      "12-Apr-72       1\n",
      "19-Sep-74       1\n",
      "Name: ApprovalDate, Length: 9859, dtype: int64\n",
      "====================\n",
      "ApprovalFY\n",
      "2005     77525\n",
      "2006     76040\n",
      "2007     71876\n",
      "2004     68290\n",
      "2003     58193\n",
      "1995     45758\n",
      "2002     44391\n",
      "1996     40112\n",
      "2008     39540\n",
      "1997     37748\n",
      "2000     37381\n",
      "1999     37363\n",
      "2001     37350\n",
      "1998     36016\n",
      "1994     31598\n",
      "1993     23305\n",
      "1992     20885\n",
      "2009     19126\n",
      "2010     16848\n",
      "1991     15666\n",
      "1990     14859\n",
      "1989     13248\n",
      "2011     12608\n",
      "2012      5997\n",
      "2013      2458\n",
      "1987      2218\n",
      "1986      2118\n",
      "1984      2022\n",
      "1985      1944\n",
      "1988      1898\n",
      "1983      1684\n",
      "1982       719\n",
      "1981       630\n",
      "1980       477\n",
      "1979       352\n",
      "2014       268\n",
      "1978       242\n",
      "1977       137\n",
      "1976        66\n",
      "1973        52\n",
      "1974        42\n",
      "1975        30\n",
      "1972        27\n",
      "1971        20\n",
      "1976A       18\n",
      "1970         8\n",
      "1969         4\n",
      "1967         2\n",
      "1968         2\n",
      "1965         1\n",
      "1966         1\n",
      "1962         1\n",
      "Name: ApprovalFY, dtype: int64\n",
      "====================\n",
      "RevLineCr\n",
      "N      420288\n",
      "0      257602\n",
      "Y      201397\n",
      "T       15284\n",
      "NaN      4528\n",
      "1          23\n",
      "R          14\n",
      "`          11\n",
      "2           6\n",
      "C           2\n",
      "5           1\n",
      "-           1\n",
      "4           1\n",
      ".           1\n",
      "3           1\n",
      "A           1\n",
      "7           1\n",
      ",           1\n",
      "Q           1\n",
      "Name: RevLineCr, dtype: int64\n",
      "====================\n",
      "LowDoc\n",
      "N      782822\n",
      "Y      110335\n",
      "NaN      2582\n",
      "0        1491\n",
      "C         758\n",
      "S         603\n",
      "A         497\n",
      "R          75\n",
      "1           1\n",
      "Name: LowDoc, dtype: int64\n",
      "====================\n",
      "ChgOffDate\n",
      "NaN          736465\n",
      "13-Mar-10       734\n",
      "20-Feb-10       614\n",
      "30-Jan-10       519\n",
      "6-Feb-10        461\n",
      "              ...  \n",
      "13-Jun-05         1\n",
      "24-Aug-98         1\n",
      "19-Jun-97         1\n",
      "1-Oct-94          1\n",
      "9-Oct-98          1\n",
      "Name: ChgOffDate, Length: 6449, dtype: int64\n",
      "====================\n",
      "DisbursementDate\n",
      "31-Jul-95    10371\n",
      "30-Apr-95    10320\n",
      "31-Jan-95     9745\n",
      "31-Oct-94     8890\n",
      "31-Oct-95     8161\n",
      "             ...  \n",
      "28-Mar-04        1\n",
      "11-Nov-11        1\n",
      "13-Aug-92        1\n",
      "27-Mar-02        1\n",
      "25-Oct-97        1\n",
      "Name: DisbursementDate, Length: 8473, dtype: int64\n",
      "====================\n",
      "DisbursementGross\n",
      "$50,000.00        43787\n",
      "$100,000.00       36714\n",
      "$25,000.00        27387\n",
      "$150,000.00       23373\n",
      "$10,000.00        21328\n",
      "                  ...  \n",
      "$143,118.00           1\n",
      "$23,827.00            1\n",
      "$157,338.00           1\n",
      "$60,698.00            1\n",
      "$1,086,300.00         1\n",
      "Name: DisbursementGross, Length: 118859, dtype: int64\n",
      "====================\n",
      "BalanceGross\n",
      "$0.00           899150\n",
      "$12,750.00           1\n",
      "$827,875.00          1\n",
      "$25,000.00           1\n",
      "$37,100.00           1\n",
      "$43,127.00           1\n",
      "$84,617.00           1\n",
      "$1,760.00            1\n",
      "$115,820.00          1\n",
      "$996,262.00          1\n",
      "$395,476.00          1\n",
      "$41,509.00           1\n",
      "$600.00              1\n",
      "$9,111.00            1\n",
      "$96,908.00           1\n",
      "Name: BalanceGross, dtype: int64\n",
      "====================\n",
      "MIS_Status\n",
      "P I F     739609\n",
      "CHGOFF    157558\n",
      "NaN         1997\n",
      "Name: MIS_Status, dtype: int64\n",
      "====================\n",
      "ChgOffPrinGr\n",
      "$0.00           737152\n",
      "$50,000.00        2110\n",
      "$10,000.00        1865\n",
      "$25,000.00        1371\n",
      "$35,000.00        1345\n",
      "                 ...  \n",
      "$29,982.00           1\n",
      "$568,599.00          1\n",
      "$142,721.00          1\n",
      "$893,162.00          1\n",
      "$124,847.00          1\n",
      "Name: ChgOffPrinGr, Length: 83165, dtype: int64\n",
      "====================\n",
      "GrAppv\n",
      "$50,000.00        69394\n",
      "$25,000.00        51258\n",
      "$100,000.00       50977\n",
      "$10,000.00        38366\n",
      "$150,000.00       27624\n",
      "                  ...  \n",
      "$407,542.00           1\n",
      "$220,900.00           1\n",
      "$57,587.00            1\n",
      "$531,577.00           1\n",
      "$1,086,300.00         1\n",
      "Name: GrAppv, Length: 22128, dtype: int64\n",
      "====================\n",
      "SBA_Appv\n",
      "$25,000.00      49579\n",
      "$12,500.00      40147\n",
      "$5,000.00       31135\n",
      "$50,000.00      25047\n",
      "$10,000.00      17009\n",
      "                ...  \n",
      "$192,949.00         1\n",
      "$212,352.00         1\n",
      "$57,072.00          1\n",
      "$32,938.00          1\n",
      "$715,674.00         1\n",
      "Name: SBA_Appv, Length: 38326, dtype: int64\n",
      "====================\n"
     ]
    }
   ],
   "source": [
    "#check any strange values in the categorical features\n",
    "for i in categorical_features:\n",
    "    print(i)\n",
    "    print(df[i].value_counts(dropna=False))\n",
    "    print(\"=\"*20)"
   ]
  },
  {
   "cell_type": "code",
   "execution_count": 12,
   "id": "b7ef987e",
   "metadata": {},
   "outputs": [
    {
     "data": {
      "text/plain": [
       "N    420288\n",
       "0    257602\n",
       "Y    201397\n",
       "T     15284\n",
       "1        23\n",
       "R        14\n",
       "`        11\n",
       "2         6\n",
       "C         2\n",
       "3         1\n",
       ",         1\n",
       "7         1\n",
       "A         1\n",
       "5         1\n",
       ".         1\n",
       "4         1\n",
       "-         1\n",
       "Q         1\n",
       "Name: RevLineCr, dtype: int64"
      ]
     },
     "execution_count": 12,
     "metadata": {},
     "output_type": "execute_result"
    }
   ],
   "source": [
    "#lets investigate the feature\n",
    "df['RevLineCr'].value_counts()"
   ]
  },
  {
   "cell_type": "markdown",
   "id": "01917910",
   "metadata": {},
   "source": [
    "##### 2.1 RevLineCr"
   ]
  },
  {
   "cell_type": "code",
   "execution_count": 13,
   "id": "b92a9838",
   "metadata": {},
   "outputs": [],
   "source": [
    "from numpy import nan"
   ]
  },
  {
   "cell_type": "code",
   "execution_count": 14,
   "id": "62c60e97",
   "metadata": {},
   "outputs": [],
   "source": [
    "#cleaning the starnge values\n",
    "df['RevLineCr']=df['RevLineCr'].replace({'0':'N','1':'Y','T':np.nan,'R':np.nan,'`':np.nan,'2':np.nan,'3':np.nan,',':np.nan,\n",
    "                                        '7':np.nan,'A':np.nan,'5':np.nan,'4':np.nan,'-':np.nan,'Q':np.nan,'C':np.nan,'.':np.nan})\n",
    "        "
   ]
  },
  {
   "cell_type": "code",
   "execution_count": 15,
   "id": "9900dce9",
   "metadata": {},
   "outputs": [
    {
     "data": {
      "text/plain": [
       "N    782822\n",
       "Y    110335\n",
       "0      1491\n",
       "C       758\n",
       "S       603\n",
       "A       497\n",
       "R        75\n",
       "1         1\n",
       "Name: LowDoc, dtype: int64"
      ]
     },
     "execution_count": 15,
     "metadata": {},
     "output_type": "execute_result"
    }
   ],
   "source": [
    "df['LowDoc'].value_counts()"
   ]
  },
  {
   "cell_type": "markdown",
   "id": "312701b0",
   "metadata": {},
   "source": [
    "##### LowDoc"
   ]
  },
  {
   "cell_type": "code",
   "execution_count": 16,
   "id": "02f48cf1",
   "metadata": {},
   "outputs": [],
   "source": [
    "#cleaning the starnge values\n",
    "df['LowDoc']=df['LowDoc'].replace({'0':'N','1':'Y','C':np.nan,'S':np.nan,'A':np.nan,'R':np.nan})"
   ]
  },
  {
   "cell_type": "markdown",
   "id": "7cca5694",
   "metadata": {},
   "source": [
    "###### NewExist"
   ]
  },
  {
   "cell_type": "markdown",
   "id": "69d4d514",
   "metadata": {},
   "source": [
    "###### DisbursementGross,BalanceGross,ChgOffPrinGr,GrAppv,SBA_Appv\n"
   ]
  },
  {
   "cell_type": "code",
   "execution_count": 17,
   "id": "5b82d9af",
   "metadata": {},
   "outputs": [
    {
     "data": {
      "text/plain": [
       "array(['$60,000.00 ', '$40,000.00 ', '$287,000.00 ', ..., '$377,446.00 ',\n",
       "       '$123,770.00 ', '$1,086,300.00 '], dtype=object)"
      ]
     },
     "execution_count": 17,
     "metadata": {},
     "output_type": "execute_result"
    }
   ],
   "source": [
    "df['DisbursementGross'].unique()"
   ]
  },
  {
   "cell_type": "code",
   "execution_count": 18,
   "id": "d9acd9a5",
   "metadata": {},
   "outputs": [],
   "source": [
    "import re\n",
    "def data_cleaning(data):\n",
    "    if isinstance(data,str):\n",
    "        new_data=re.sub(r'[$,]',\"\",data)\n",
    "        return new_data\n",
    "    else:\n",
    "        return data\n",
    "        "
   ]
  },
  {
   "cell_type": "code",
   "execution_count": 19,
   "id": "6edfd470",
   "metadata": {},
   "outputs": [],
   "source": [
    "df['DisbursementGross']=df['DisbursementGross'].apply(data_cleaning)\n",
    "df['BalanceGross']=df['BalanceGross'].apply(data_cleaning)\n",
    "df['ChgOffPrinGr']=df['ChgOffPrinGr'].apply(data_cleaning)\n",
    "df['GrAppv']=df['GrAppv'].apply(data_cleaning)\n",
    "df['SBA_Appv']=df['SBA_Appv'].apply(data_cleaning)\n"
   ]
  },
  {
   "cell_type": "markdown",
   "id": "079a3d45",
   "metadata": {},
   "source": [
    "##### 2.2 Converting the features"
   ]
  },
  {
   "cell_type": "code",
   "execution_count": 20,
   "id": "f3d0bde1",
   "metadata": {},
   "outputs": [],
   "source": [
    "df['BalanceGross']=df['BalanceGross'].astype(float)\n",
    "df['ChgOffPrinGr']=df['BalanceGross'].astype(float)\n",
    "df['GrAppv']=df['GrAppv'].astype(float)\n",
    "df['SBA_Appv']=df['SBA_Appv'].astype(float)\n",
    "df['DisbursementGross']=df['DisbursementGross'].astype(float)"
   ]
  },
  {
   "cell_type": "markdown",
   "id": "537ef01b",
   "metadata": {},
   "source": [
    "###### 2.1 Check the Null values"
   ]
  },
  {
   "cell_type": "code",
   "execution_count": 21,
   "id": "cf6d694d",
   "metadata": {},
   "outputs": [],
   "source": [
    "#check the missing percentage\n",
    "missing_percentage = (df.isnull().sum() / len(df)) * 100"
   ]
  },
  {
   "cell_type": "code",
   "execution_count": 22,
   "id": "af135307",
   "metadata": {},
   "outputs": [
    {
     "data": {
      "text/plain": [
       "LoanNr_ChkDgt         0.000000\n",
       "Name                  0.001557\n",
       "City                  0.003336\n",
       "State                 0.001557\n",
       "Zip                   0.000000\n",
       "Bank                  0.173383\n",
       "BankState             0.174162\n",
       "NAICS                 0.000000\n",
       "ApprovalDate          0.000000\n",
       "ApprovalFY            0.000000\n",
       "Term                  0.000000\n",
       "NoEmp                 0.000000\n",
       "NewExist              0.015125\n",
       "CreateJob             0.000000\n",
       "RetainedJob           0.000000\n",
       "FranchiseCode         0.000000\n",
       "UrbanRural            0.000000\n",
       "RevLineCr             2.208051\n",
       "LowDoc                0.502133\n",
       "ChgOffDate           81.905526\n",
       "DisbursementDate      0.263356\n",
       "DisbursementGross     0.000000\n",
       "BalanceGross          0.000000\n",
       "MIS_Status            0.222095\n",
       "ChgOffPrinGr          0.000000\n",
       "GrAppv                0.000000\n",
       "SBA_Appv              0.000000\n",
       "dtype: float64"
      ]
     },
     "execution_count": 22,
     "metadata": {},
     "output_type": "execute_result"
    }
   ],
   "source": [
    "missing_percentage"
   ]
  },
  {
   "cell_type": "markdown",
   "id": "a7fb508b",
   "metadata": {},
   "source": [
    "##### observation:\n",
    "    1.ChgOffDate has 81.9% missing data so drop the column\n",
    "    2.RevLInerCr has 2.2% of missing values\n",
    "    3.Lets drop the values because the size dataset is more\n",
    "    "
   ]
  },
  {
   "cell_type": "code",
   "execution_count": 23,
   "id": "fb48e44e",
   "metadata": {},
   "outputs": [],
   "source": [
    "df.drop('ChgOffDate',axis=1,inplace=True)"
   ]
  },
  {
   "cell_type": "code",
   "execution_count": 24,
   "id": "566e39ea",
   "metadata": {},
   "outputs": [],
   "source": [
    "#drop the null values\n",
    "df.dropna(inplace=True)"
   ]
  },
  {
   "cell_type": "code",
   "execution_count": 25,
   "id": "10c648cb",
   "metadata": {},
   "outputs": [
    {
     "data": {
      "text/plain": [
       "(869181, 26)"
      ]
     },
     "execution_count": 25,
     "metadata": {},
     "output_type": "execute_result"
    }
   ],
   "source": [
    "df.shape"
   ]
  },
  {
   "cell_type": "code",
   "execution_count": 26,
   "id": "e476544c",
   "metadata": {},
   "outputs": [
    {
     "data": {
      "text/html": [
       "<div>\n",
       "<style scoped>\n",
       "    .dataframe tbody tr th:only-of-type {\n",
       "        vertical-align: middle;\n",
       "    }\n",
       "\n",
       "    .dataframe tbody tr th {\n",
       "        vertical-align: top;\n",
       "    }\n",
       "\n",
       "    .dataframe thead th {\n",
       "        text-align: right;\n",
       "    }\n",
       "</style>\n",
       "<table border=\"1\" class=\"dataframe\">\n",
       "  <thead>\n",
       "    <tr style=\"text-align: right;\">\n",
       "      <th></th>\n",
       "      <th>LoanNr_ChkDgt</th>\n",
       "      <th>Name</th>\n",
       "      <th>City</th>\n",
       "      <th>State</th>\n",
       "      <th>Zip</th>\n",
       "      <th>Bank</th>\n",
       "      <th>BankState</th>\n",
       "      <th>NAICS</th>\n",
       "      <th>ApprovalDate</th>\n",
       "      <th>ApprovalFY</th>\n",
       "      <th>...</th>\n",
       "      <th>UrbanRural</th>\n",
       "      <th>RevLineCr</th>\n",
       "      <th>LowDoc</th>\n",
       "      <th>DisbursementDate</th>\n",
       "      <th>DisbursementGross</th>\n",
       "      <th>BalanceGross</th>\n",
       "      <th>MIS_Status</th>\n",
       "      <th>ChgOffPrinGr</th>\n",
       "      <th>GrAppv</th>\n",
       "      <th>SBA_Appv</th>\n",
       "    </tr>\n",
       "  </thead>\n",
       "  <tbody>\n",
       "    <tr>\n",
       "      <th>0</th>\n",
       "      <td>1000014003</td>\n",
       "      <td>ABC HOBBYCRAFT</td>\n",
       "      <td>EVANSVILLE</td>\n",
       "      <td>IN</td>\n",
       "      <td>47711</td>\n",
       "      <td>FIFTH THIRD BANK</td>\n",
       "      <td>OH</td>\n",
       "      <td>451120</td>\n",
       "      <td>28-Feb-97</td>\n",
       "      <td>1997</td>\n",
       "      <td>...</td>\n",
       "      <td>0</td>\n",
       "      <td>N</td>\n",
       "      <td>Y</td>\n",
       "      <td>28-Feb-99</td>\n",
       "      <td>60000.0</td>\n",
       "      <td>0.0</td>\n",
       "      <td>P I F</td>\n",
       "      <td>0.0</td>\n",
       "      <td>60000.0</td>\n",
       "      <td>48000.0</td>\n",
       "    </tr>\n",
       "    <tr>\n",
       "      <th>1</th>\n",
       "      <td>1000024006</td>\n",
       "      <td>LANDMARK BAR &amp; GRILLE (THE)</td>\n",
       "      <td>NEW PARIS</td>\n",
       "      <td>IN</td>\n",
       "      <td>46526</td>\n",
       "      <td>1ST SOURCE BANK</td>\n",
       "      <td>IN</td>\n",
       "      <td>722410</td>\n",
       "      <td>28-Feb-97</td>\n",
       "      <td>1997</td>\n",
       "      <td>...</td>\n",
       "      <td>0</td>\n",
       "      <td>N</td>\n",
       "      <td>Y</td>\n",
       "      <td>31-May-97</td>\n",
       "      <td>40000.0</td>\n",
       "      <td>0.0</td>\n",
       "      <td>P I F</td>\n",
       "      <td>0.0</td>\n",
       "      <td>40000.0</td>\n",
       "      <td>32000.0</td>\n",
       "    </tr>\n",
       "  </tbody>\n",
       "</table>\n",
       "<p>2 rows × 26 columns</p>\n",
       "</div>"
      ],
      "text/plain": [
       "   LoanNr_ChkDgt                         Name        City State    Zip  \\\n",
       "0     1000014003               ABC HOBBYCRAFT  EVANSVILLE    IN  47711   \n",
       "1     1000024006  LANDMARK BAR & GRILLE (THE)   NEW PARIS    IN  46526   \n",
       "\n",
       "               Bank BankState   NAICS ApprovalDate ApprovalFY  ...  \\\n",
       "0  FIFTH THIRD BANK        OH  451120    28-Feb-97       1997  ...   \n",
       "1   1ST SOURCE BANK        IN  722410    28-Feb-97       1997  ...   \n",
       "\n",
       "   UrbanRural  RevLineCr  LowDoc  DisbursementDate  DisbursementGross  \\\n",
       "0           0          N       Y         28-Feb-99            60000.0   \n",
       "1           0          N       Y         31-May-97            40000.0   \n",
       "\n",
       "   BalanceGross  MIS_Status ChgOffPrinGr   GrAppv SBA_Appv  \n",
       "0           0.0       P I F          0.0  60000.0  48000.0  \n",
       "1           0.0       P I F          0.0  40000.0  32000.0  \n",
       "\n",
       "[2 rows x 26 columns]"
      ]
     },
     "execution_count": 26,
     "metadata": {},
     "output_type": "execute_result"
    }
   ],
   "source": [
    "df.head(2)"
   ]
  },
  {
   "cell_type": "code",
   "execution_count": 27,
   "id": "245481e0",
   "metadata": {},
   "outputs": [],
   "source": [
    "df['ApprovalDate']=pd.to_datetime(df['ApprovalDate'])\n",
    "df['DisbursementDate']=pd.to_datetime(df['DisbursementDate'])\n"
   ]
  },
  {
   "cell_type": "code",
   "execution_count": 28,
   "id": "ef4046e8",
   "metadata": {},
   "outputs": [],
   "source": [
    "df['Days_took_Disbursement']=df['DisbursementDate']-df['ApprovalDate']"
   ]
  },
  {
   "cell_type": "code",
   "execution_count": 29,
   "id": "b5519b6e",
   "metadata": {},
   "outputs": [],
   "source": [
    "df.drop(['ApprovalDate','DisbursementDate'],axis=1,inplace=True)"
   ]
  },
  {
   "cell_type": "code",
   "execution_count": null,
   "id": "225958a0",
   "metadata": {},
   "outputs": [],
   "source": []
  },
  {
   "cell_type": "markdown",
   "id": "b9910afd",
   "metadata": {},
   "source": [
    "## 2.2 Treating Outliers"
   ]
  },
  {
   "cell_type": "code",
   "execution_count": 30,
   "id": "57825441",
   "metadata": {},
   "outputs": [],
   "source": [
    "def treating_outliers(df, column):\n",
    "    q1 = np.percentile(df[column], 25)\n",
    "    q3 = np.percentile(df[column], 75)\n",
    "    iqr = q3 - q1\n",
    "    lower_bound = q1 - 1.5 * iqr\n",
    "    upper_bound = q3 + 1.5 * iqr\n",
    "    \n",
    "    df[column] = np.where((df[column] < lower_bound) | (df[column] > upper_bound), np.nan, df[column])\n",
    "    \n",
    "    return df[column]\n"
   ]
  },
  {
   "cell_type": "code",
   "execution_count": 31,
   "id": "f21ae686",
   "metadata": {},
   "outputs": [],
   "source": [
    "df['Term']=treating_outliers(df,'Term')"
   ]
  },
  {
   "cell_type": "code",
   "execution_count": 32,
   "id": "92af0d29",
   "metadata": {},
   "outputs": [
    {
     "data": {
      "text/plain": [
       "array([ 84.,  60., 180.,  nan, 120.,  45., 162.,  12.,  87., 114., 144.,\n",
       "       126.,  83., 102.,  80., 137.,  42.,  96., 167.,   7.,  36.,  37.,\n",
       "        26.,  72.,  24.,   5.,  54.,  66., 161.,  71.,   4.,  93., 108.,\n",
       "        10.,  13.,  90.,  19.,  16.,   3.,  27., 149.,  41.,  18.,  57.,\n",
       "       104.,  82.,  14.,  61., 127.,  58.,  44.,  32.,  85.,  48.,  31.,\n",
       "       112.,  38.,  73.,  47.,  11., 134.,  15.,  79.,  53.,  39.,   6.,\n",
       "        55.,  95.,  35.,  59.,  62.,  68., 123.,  46.,  70., 138.,  52.,\n",
       "        25.,  65.,  91.,   1.,  74.,  49., 103.,  77.,  86.,  63.,  56.,\n",
       "        22.,   0.,  97.,  40.,  23.,  17.,  69.,  21.,  43.,  89.,  92.,\n",
       "       183.,   2., 132.,  34., 131.,   9.,  78.,  99., 129.,   8.,  29.,\n",
       "        30., 168., 208.,  81., 147., 125.,  94.,  51.,  64., 111.,  75.,\n",
       "        28., 119.,  98., 191., 116.,  76., 113., 118.,  88., 166., 176.,\n",
       "       203., 142.,  33., 157., 165., 210., 106.,  20.,  50., 204., 178.,\n",
       "       115., 174., 192.,  67., 133., 141., 122., 156., 153., 105., 124.,\n",
       "       140., 186., 107., 190., 128., 202., 130., 121., 100., 101., 199.,\n",
       "       117., 187., 136., 196., 181., 175., 195., 177., 139., 184., 150.,\n",
       "       207., 164., 206., 170., 172., 158., 189., 179., 193., 146., 155.,\n",
       "       135., 185., 200., 109., 209., 145., 152., 110., 169., 201., 171.,\n",
       "       188., 143., 160., 148., 159., 198., 154., 197., 151., 182., 205.,\n",
       "       163., 194., 173.])"
      ]
     },
     "execution_count": 32,
     "metadata": {},
     "output_type": "execute_result"
    }
   ],
   "source": [
    "df['Term'].unique()"
   ]
  },
  {
   "cell_type": "code",
   "execution_count": 33,
   "id": "e4fed848",
   "metadata": {},
   "outputs": [
    {
     "name": "stdout",
     "output_type": "stream",
     "text": [
      "0          4.0\n",
      "1          2.0\n",
      "2          7.0\n",
      "3          2.0\n",
      "4         14.0\n",
      "          ... \n",
      "899159     6.0\n",
      "899160     6.0\n",
      "899161     NaN\n",
      "899162     6.0\n",
      "899163     1.0\n",
      "Name: NoEmp, Length: 869181, dtype: float64\n"
     ]
    }
   ],
   "source": [
    "df['NoEmp']=treating_outliers(df,'NoEmp')\n",
    "print(df['NoEmp'])"
   ]
  },
  {
   "cell_type": "code",
   "execution_count": 34,
   "id": "5c415891",
   "metadata": {},
   "outputs": [],
   "source": [
    "df['CreateJob']=treating_outliers(df,'CreateJob')\n",
    "df['BalanceGross']=treating_outliers(df,'BalanceGross')\n",
    "df['ChgOffPrinGr']=treating_outliers(df,'ChgOffPrinGr')\n",
    "df['GrAppv']=treating_outliers(df,'GrAppv')\n",
    "df['SBA_Appv']=treating_outliers(df,'SBA_Appv')"
   ]
  },
  {
   "cell_type": "markdown",
   "id": "b043ffc6",
   "metadata": {},
   "source": [
    "###### numerical_features"
   ]
  },
  {
   "cell_type": "code",
   "execution_count": 35,
   "id": "da2216f1",
   "metadata": {},
   "outputs": [
    {
     "data": {
      "text/plain": [
       "1.0    623174\n",
       "2.0    244996\n",
       "Name: NewExist, dtype: int64"
      ]
     },
     "execution_count": 35,
     "metadata": {},
     "output_type": "execute_result"
    }
   ],
   "source": [
    "df['NewExist']=df['NewExist'].replace({0.0:np.nan})\n",
    "df['NewExist'].value_counts()"
   ]
  },
  {
   "cell_type": "code",
   "execution_count": 36,
   "id": "9185ca3c",
   "metadata": {},
   "outputs": [
    {
     "data": {
      "text/plain": [
       "0         2.0\n",
       "1         2.0\n",
       "2         1.0\n",
       "3         1.0\n",
       "4         1.0\n",
       "         ... \n",
       "899159    1.0\n",
       "899160    1.0\n",
       "899161    1.0\n",
       "899162    1.0\n",
       "899163    2.0\n",
       "Name: NewExist, Length: 868170, dtype: float64"
      ]
     },
     "execution_count": 36,
     "metadata": {},
     "output_type": "execute_result"
    }
   ],
   "source": [
    "df['NewExist'].dropna()"
   ]
  },
  {
   "cell_type": "code",
   "execution_count": 37,
   "id": "53b80081",
   "metadata": {},
   "outputs": [],
   "source": [
    "#lets drop non-important features\n",
    "df.drop(['LoanNr_ChkDgt','Zip','NAICS','ChgOffPrinGr'],axis=1,inplace=True)"
   ]
  },
  {
   "cell_type": "code",
   "execution_count": 38,
   "id": "58d3c9d6",
   "metadata": {},
   "outputs": [
    {
     "data": {
      "text/plain": [
       "Name                           0\n",
       "City                           0\n",
       "State                          0\n",
       "Bank                           0\n",
       "BankState                      0\n",
       "ApprovalFY                     0\n",
       "Term                      156883\n",
       "NoEmp                      94923\n",
       "NewExist                    1011\n",
       "CreateJob                 144450\n",
       "RetainedJob                    0\n",
       "FranchiseCode                  0\n",
       "UrbanRural                     0\n",
       "RevLineCr                      0\n",
       "LowDoc                         0\n",
       "DisbursementGross              0\n",
       "BalanceGross                  12\n",
       "MIS_Status                     0\n",
       "GrAppv                     81531\n",
       "SBA_Appv                   86871\n",
       "Days_took_Disbursement         0\n",
       "dtype: int64"
      ]
     },
     "execution_count": 38,
     "metadata": {},
     "output_type": "execute_result"
    }
   ],
   "source": [
    "df.isnull().sum()"
   ]
  },
  {
   "cell_type": "code",
   "execution_count": 39,
   "id": "5fbae1e7",
   "metadata": {},
   "outputs": [
    {
     "name": "stderr",
     "output_type": "stream",
     "text": [
      "C:\\Users\\HOME\\AppData\\Local\\Temp\\ipykernel_6788\\952699806.py:2: FutureWarning: Unlike other reduction functions (e.g. `skew`, `kurtosis`), the default behavior of `mode` typically preserves the axis it acts along. In SciPy 1.11.0, this behavior will change: the default value of `keepdims` will become False, the `axis` over which the statistic is taken will be eliminated, and the value None will no longer be accepted. Set `keepdims` to True or False to avoid this warning.\n",
      "  df['Term'].fillna(stats.mode(df['Term']).mode[0],inplace=True)\n",
      "C:\\Users\\HOME\\AppData\\Local\\Temp\\ipykernel_6788\\952699806.py:3: FutureWarning: Unlike other reduction functions (e.g. `skew`, `kurtosis`), the default behavior of `mode` typically preserves the axis it acts along. In SciPy 1.11.0, this behavior will change: the default value of `keepdims` will become False, the `axis` over which the statistic is taken will be eliminated, and the value None will no longer be accepted. Set `keepdims` to True or False to avoid this warning.\n",
      "  df['NoEmp'].fillna(stats.mode(df['NoEmp']).mode[0],inplace=True)\n",
      "C:\\Users\\HOME\\AppData\\Local\\Temp\\ipykernel_6788\\952699806.py:4: FutureWarning: Unlike other reduction functions (e.g. `skew`, `kurtosis`), the default behavior of `mode` typically preserves the axis it acts along. In SciPy 1.11.0, this behavior will change: the default value of `keepdims` will become False, the `axis` over which the statistic is taken will be eliminated, and the value None will no longer be accepted. Set `keepdims` to True or False to avoid this warning.\n",
      "  df['NewExist'].fillna(stats.mode(df['NewExist']).mode[0],inplace=True)\n",
      "C:\\Users\\HOME\\AppData\\Local\\Temp\\ipykernel_6788\\952699806.py:5: FutureWarning: Unlike other reduction functions (e.g. `skew`, `kurtosis`), the default behavior of `mode` typically preserves the axis it acts along. In SciPy 1.11.0, this behavior will change: the default value of `keepdims` will become False, the `axis` over which the statistic is taken will be eliminated, and the value None will no longer be accepted. Set `keepdims` to True or False to avoid this warning.\n",
      "  df['CreateJob'].fillna(stats.mode(df['CreateJob']).mode[0],inplace=True)\n"
     ]
    }
   ],
   "source": [
    " #since the varibles are in discreate in natures we mode method\n",
    "df['Term'].fillna(stats.mode(df['Term']).mode[0],inplace=True)\n",
    "df['NoEmp'].fillna(stats.mode(df['NoEmp']).mode[0],inplace=True)\n",
    "df['NewExist'].fillna(stats.mode(df['NewExist']).mode[0],inplace=True)\n",
    "df['CreateJob'].fillna(stats.mode(df['CreateJob']).mode[0],inplace=True)\n",
    "\n",
    "#since varibles in continous in nature\n",
    "df['GrAppv']=df['GrAppv'].fillna(mean(df['GrAppv']))\n",
    "df['SBA_Appv']=df['SBA_Appv'].fillna(mean(df['GrAppv']))\n",
    "df['DisbursementGross']=df['DisbursementGross'].fillna(mean(df['GrAppv']))"
   ]
  },
  {
   "cell_type": "markdown",
   "id": "9754ce0f",
   "metadata": {},
   "source": [
    "# 3.EDA(exploratory data Analyis)"
   ]
  },
  {
   "cell_type": "code",
   "execution_count": 40,
   "id": "79dae31b",
   "metadata": {},
   "outputs": [],
   "source": [
    "#segregate the numerical features and categorical features\n",
    "numerical_features=df.select_dtypes(exclude='O').columns\n",
    "categorical_features=df.select_dtypes(include='O').columns"
   ]
  },
  {
   "cell_type": "code",
   "execution_count": 41,
   "id": "913296e0",
   "metadata": {},
   "outputs": [
    {
     "name": "stdout",
     "output_type": "stream",
     "text": [
      "The numerical_features  Index(['Term', 'NoEmp', 'NewExist', 'CreateJob', 'RetainedJob',\n",
      "       'FranchiseCode', 'UrbanRural', 'DisbursementGross', 'BalanceGross',\n",
      "       'GrAppv', 'SBA_Appv', 'Days_took_Disbursement'],\n",
      "      dtype='object') and total number of features 12\n",
      "The categorical_features Index(['Name', 'City', 'State', 'Bank', 'BankState', 'ApprovalFY', 'RevLineCr',\n",
      "       'LowDoc', 'MIS_Status'],\n",
      "      dtype='object') and total number of features 9\n"
     ]
    }
   ],
   "source": [
    "print(\"The numerical_features  {} and total number of features {}\".format(numerical_features,len(numerical_features)))\n",
    "print(\"The categorical_features {} and total number of features {}\".format(categorical_features,len(categorical_features)))"
   ]
  },
  {
   "cell_type": "markdown",
   "id": "c8f2e71d",
   "metadata": {},
   "source": [
    "#### 3.1UNIVARIATE ANALYSIS OF NUMERICAL_FEATURES"
   ]
  },
  {
   "cell_type": "code",
   "execution_count": 42,
   "id": "affe61a6",
   "metadata": {},
   "outputs": [],
   "source": [
    "continous_numerical_variable=[variable for variable in numerical_features if len(df[variable].value_counts())>10]\n",
    "discrete_numerical_varibale=[variable for variable in numerical_features if not variable in continous_numerical_variable]\n"
   ]
  },
  {
   "cell_type": "code",
   "execution_count": 43,
   "id": "ba6f7c07",
   "metadata": {},
   "outputs": [
    {
     "data": {
      "text/plain": [
       "['Term',\n",
       " 'NoEmp',\n",
       " 'RetainedJob',\n",
       " 'FranchiseCode',\n",
       " 'DisbursementGross',\n",
       " 'GrAppv',\n",
       " 'SBA_Appv',\n",
       " 'Days_took_Disbursement']"
      ]
     },
     "execution_count": 43,
     "metadata": {},
     "output_type": "execute_result"
    }
   ],
   "source": [
    "continous_numerical_variable"
   ]
  },
  {
   "cell_type": "markdown",
   "id": "6ce3860b",
   "metadata": {},
   "source": [
    "##### 3.1.1 DATA VISUALISATION OF continous_numerical_variable"
   ]
  },
  {
   "cell_type": "markdown",
   "id": "0e3fd18c",
   "metadata": {},
   "source": [
    "###### Univaraiate analysis"
   ]
  },
  {
   "cell_type": "code",
   "execution_count": 44,
   "id": "201f1734",
   "metadata": {},
   "outputs": [
    {
     "data": {
      "image/png": "[encoded data removed]",
      "text/plain": [
       "<Figure size 1200x700 with 5 Axes>"
      ]
     },
     "metadata": {},
     "output_type": "display_data"
    }
   ],
   "source": [
    "plt.figure(figsize=(12,7))\n",
    "plt.subplot(321)\n",
    "sns.histplot(x='Term',data=df,kde=True)\n",
    "plt.subplot(322)\n",
    "sns.histplot(x='NoEmp',data=df,kde=True)\n",
    "plt.subplot(323)\n",
    "sns.histplot(x='GrAppv',data=df,kde=True)\n",
    "plt.subplot(324)\n",
    "sns.histplot(x='SBA_Appv',data=df,kde=True)\n",
    "plt.subplot(325)\n",
    "sns.histplot(x='DisbursementGross',data=df,kde=True)\n",
    "plt.tight_layout()\n",
    "plt.show()"
   ]
  },
  {
   "cell_type": "markdown",
   "id": "d212545d",
   "metadata": {},
   "source": [
    "##### Observation:\n",
    "    No Emp ,GrAppv ,SBA_Appv and DisbursementGross has left sckewed data"
   ]
  },
  {
   "cell_type": "markdown",
   "id": "a0a90b8c",
   "metadata": {},
   "source": [
    "###### Multivariate Analysis:\n",
    "    How the continous_numerical_variable effect on MIS_Status variable"
   ]
  },
  {
   "cell_type": "code",
   "execution_count": 45,
   "id": "270cd355",
   "metadata": {},
   "outputs": [
    {
     "data": {
      "image/png": "[encoded data removed]",
      "text/plain": [
       "<Figure size 1200x900 with 5 Axes>"
      ]
     },
     "metadata": {},
     "output_type": "display_data"
    }
   ],
   "source": [
    "plt.figure(figsize=(12,9))\n",
    "plt.subplot(321)\n",
    "sns.boxplot(x='MIS_Status',y='Term',data=df)\n",
    "plt.subplot(322)\n",
    "sns.boxplot(x='MIS_Status',y='NoEmp',data=df)\n",
    "plt.subplot(323)\n",
    "sns.boxplot(x='MIS_Status',y='GrAppv',data=df)\n",
    "plt.subplot(324)\n",
    "sns.boxplot(x='MIS_Status',y='SBA_Appv',data=df)\n",
    "plt.subplot(325)\n",
    "sns.boxplot(x='MIS_Status',y='DisbursementGross',data=df)\n",
    "plt.tight_layout()\n",
    "plt.show()"
   ]
  },
  {
   "cell_type": "markdown",
   "id": "19f87f0c",
   "metadata": {},
   "source": [
    "###### observation:\n",
    "    1.When term is more or(tenure of loan)have high chance of loan approval\n",
    "    2.Customers who have more employess have good chance of loan approval\n",
    "    3.Customers who have high GrAppv amount has more chance of loan approval\n",
    "    4.Customers who have high SBA_Appv amount has more chance of loan approval\n",
    "    5.Customer who got Amount doesnt have any effect in chance of loan approval"
   ]
  },
  {
   "cell_type": "markdown",
   "id": "111623c6",
   "metadata": {},
   "source": [
    "##### 3.1.2 DATA VISUALISATION OF discrete_numerical_varibale"
   ]
  },
  {
   "cell_type": "code",
   "execution_count": 46,
   "id": "6511bcb9",
   "metadata": {},
   "outputs": [
    {
     "data": {
      "text/plain": [
       "['NewExist', 'CreateJob', 'UrbanRural', 'BalanceGross']"
      ]
     },
     "execution_count": 46,
     "metadata": {},
     "output_type": "execute_result"
    }
   ],
   "source": [
    "discrete_numerical_varibale"
   ]
  },
  {
   "cell_type": "markdown",
   "id": "b6c64762",
   "metadata": {},
   "source": [
    "##### Univariate analysis"
   ]
  },
  {
   "cell_type": "code",
   "execution_count": 47,
   "id": "d1146d3a",
   "metadata": {},
   "outputs": [
    {
     "data": {
      "image/png": "[encoded data removed]",
      "text/plain": [
       "<Figure size 1200x700 with 3 Axes>"
      ]
     },
     "metadata": {},
     "output_type": "display_data"
    }
   ],
   "source": [
    "plt.figure(figsize=(12,7))\n",
    "plt.subplot(321)\n",
    "sns.countplot(x='NewExist',data=df)\n",
    "plt.subplot(322)\n",
    "sns.countplot(x='CreateJob',data=df)\n",
    "plt.subplot(323)\n",
    "sns.countplot(x='UrbanRural',data=df)\n",
    "plt.tight_layout()\n",
    "plt.show()"
   ]
  },
  {
   "cell_type": "markdown",
   "id": "2c958a9f",
   "metadata": {},
   "source": [
    "###### observation:\n",
    "    1.Most borrowers have Existing business and they borrowed money for expanding business\n",
    "    2.Most borrowers have created zero job\n",
    "    3.Most borrowers have are from rural areas\n",
    "    "
   ]
  },
  {
   "cell_type": "markdown",
   "id": "9baa1cf5",
   "metadata": {},
   "source": [
    "##### Multivariate Analysis:\n",
    "        How the discrete_numerical_variable on MIS_Status variable"
   ]
  },
  {
   "cell_type": "code",
   "execution_count": 48,
   "id": "5d4808b1",
   "metadata": {},
   "outputs": [
    {
     "data": {
      "image/png": "[encoded data removed]",
      "text/plain": [
       "<Figure size 1200x700 with 3 Axes>"
      ]
     },
     "metadata": {},
     "output_type": "display_data"
    }
   ],
   "source": [
    "plt.figure(figsize=(12,7))\n",
    "plt.subplot(321)\n",
    "sns.countplot(x='NewExist',data=df,hue='MIS_Status')\n",
    "plt.subplot(322)\n",
    "sns.countplot(x='CreateJob',data=df,hue='MIS_Status')\n",
    "plt.subplot(323)\n",
    "sns.countplot(x='UrbanRural',data=df,hue='MIS_Status')\n",
    "plt.tight_layout()\n",
    "plt.show()"
   ]
  },
  {
   "cell_type": "markdown",
   "id": "1a6ca6c7",
   "metadata": {},
   "source": [
    "##### observation:\n",
    "    1.Customer who have more existing business have more chance of loan approval\n",
    "    2.Createjob has no effect on loan approval\n",
    "    3.More urban customers have approved loan"
   ]
  },
  {
   "cell_type": "markdown",
   "id": "66ba8de5",
   "metadata": {},
   "source": [
    "##### 3.1.3 UNIVARAIATE ANALYSIS OF categorical_features"
   ]
  },
  {
   "cell_type": "code",
   "execution_count": 49,
   "id": "70c2242a",
   "metadata": {},
   "outputs": [
    {
     "data": {
      "image/png": "[encoded data removed]",
      "text/plain": [
       "<Figure size 1200x700 with 3 Axes>"
      ]
     },
     "metadata": {},
     "output_type": "display_data"
    }
   ],
   "source": [
    "plt.figure(figsize=(12,7))\n",
    "plt.subplot(321)\n",
    "sns.countplot(x='RevLineCr',data=df)\n",
    "plt.subplot(322)\n",
    "sns.countplot(x='LowDoc',data=df)\n",
    "plt.subplot(323)\n",
    "sns.countplot(x='MIS_Status',data=df)\n",
    "plt.tight_layout()\n",
    "plt.show()"
   ]
  },
  {
   "cell_type": "markdown",
   "id": "6cc42259",
   "metadata": {},
   "source": [
    "##### Observation:\n",
    "    1.Most customers are not revolving the approval\n",
    "    2.Most customer are for are not for lowDoc programme\n",
    "    3. Most customer are approved for loan"
   ]
  },
  {
   "cell_type": "code",
   "execution_count": 50,
   "id": "8e45b67e",
   "metadata": {},
   "outputs": [
    {
     "data": {
      "text/plain": [
       "P I F     0.828604\n",
       "CHGOFF    0.171396\n",
       "Name: MIS_Status, dtype: float64"
      ]
     },
     "execution_count": 50,
     "metadata": {},
     "output_type": "execute_result"
    }
   ],
   "source": [
    "df['MIS_Status'].value_counts(normalize=True)"
   ]
  },
  {
   "cell_type": "markdown",
   "id": "68a69d95",
   "metadata": {},
   "source": [
    "##### Observation:\n",
    "    There is imbalance dataset"
   ]
  },
  {
   "cell_type": "markdown",
   "id": "a2979961",
   "metadata": {},
   "source": [
    "##### Multivariate Analysis:\n",
    "        How the categorical_features affect  on MIS_Status variable"
   ]
  },
  {
   "cell_type": "code",
   "execution_count": 51,
   "id": "12c6321a",
   "metadata": {},
   "outputs": [
    {
     "data": {
      "image/png": "[encoded data removed]",
      "text/plain": [
       "<Figure size 1200x700 with 2 Axes>"
      ]
     },
     "metadata": {},
     "output_type": "display_data"
    }
   ],
   "source": [
    "plt.figure(figsize=(12,7))\n",
    "plt.subplot(221)\n",
    "sns.countplot(hue='MIS_Status',x='RevLineCr',data=df)\n",
    "plt.subplot(222)\n",
    "sns.countplot(hue='MIS_Status',x='LowDoc',data=df)\n",
    "plt.tight_layout()\n",
    "plt.show()"
   ]
  },
  {
   "cell_type": "markdown",
   "id": "10c465d2",
   "metadata": {},
   "source": [
    "##### Observation:\n",
    "    1.Customers who have are not in revloving loan has high chance for loan approval\n",
    "    2.Customer who have not for lowdocument programme have high chance for loan approval"
   ]
  },
  {
   "cell_type": "markdown",
   "id": "ce1684cb",
   "metadata": {},
   "source": [
    "##### 3.1.4 Correlation"
   ]
  },
  {
   "cell_type": "code",
   "execution_count": 52,
   "id": "17cc9abb",
   "metadata": {},
   "outputs": [
    {
     "data": {
      "text/plain": [
       "<AxesSubplot: >"
      ]
     },
     "execution_count": 52,
     "metadata": {},
     "output_type": "execute_result"
    },
    {
     "data": {
      "image/png": "[encoded data removed]",
      "text/plain": [
       "<Figure size 640x480 with 2 Axes>"
      ]
     },
     "metadata": {},
     "output_type": "display_data"
    }
   ],
   "source": [
    "matrix=df.corr()\n",
    "sns.heatmap(matrix,annot=True,fmt='.1g')"
   ]
  },
  {
   "cell_type": "markdown",
   "id": "798b5445",
   "metadata": {},
   "source": [
    "##### 4 Hypothesis Testing:\n",
    "    This Hypothesis Testing give confidence of relation of Independent variable and target variable"
   ]
  },
  {
   "cell_type": "markdown",
   "id": "e9307fee",
   "metadata": {},
   "source": [
    "##### 4.1 Hypothesis Testing Steps\n",
    " 1.Hypothesis Statement\n",
    " \n",
    " 2.Analysis plan formulation\n",
    " \n",
    " 3.Analyze sample data\n",
    " \n",
    " 4.Interpret the results\n"
   ]
  },
  {
   "cell_type": "markdown",
   "id": "4d7bc643",
   "metadata": {},
   "source": [
    "###### Normality tests:\n",
    "    Since all the disturbution are not Gaussian disturbution that show in above graphs we go with \n",
    "    1.Non-Parametric tests"
   ]
  },
  {
   "cell_type": "markdown",
   "id": "4d1c3840",
   "metadata": {},
   "source": [
    "#### 4.1.1 Numerical_variables:\n",
    "   "
   ]
  },
  {
   "cell_type": "markdown",
   "id": "5fdc5401",
   "metadata": {},
   "source": [
    "###### 1.Term"
   ]
  },
  {
   "cell_type": "markdown",
   "id": "b59e7cac",
   "metadata": {},
   "source": [
    "Our First Question is Term variable is stastically different form MIS_Status"
   ]
  },
  {
   "cell_type": "markdown",
   "id": "bb8ba691",
   "metadata": {},
   "source": [
    "###### a. Hypothesis Statement:\n",
    "    Null Hypothesis (H0):There is no significant difference in the distribution of the Term and MIS_Status\n",
    "    \n",
    "    Alternative Hypothesis (Ha):There is significant difference in the distribution of the Term and MIS_Status\n",
    "    \n",
    "                         \n",
    "    "
   ]
  },
  {
   "cell_type": "markdown",
   "id": "fb6157e2",
   "metadata": {},
   "source": [
    "###### b.Analysis plan formulation"
   ]
  },
  {
   "cell_type": "markdown",
   "id": "e457d341",
   "metadata": {},
   "source": [
    "###### 1.Significance_level: \n",
    "  Test our Hypothesis at 5% confidence interval\n",
    "  \n",
    "  2.Test Method:\n",
    "      we use  Mann-Whitney U test which is non parametric test, which is used to compare two independent group which one numerical  variable and  categorical variable \n",
    "    "
   ]
  },
  {
   "cell_type": "code",
   "execution_count": 53,
   "id": "502c6df0",
   "metadata": {},
   "outputs": [],
   "source": [
    "#creation of sample\n",
    "\n",
    "dataset_1=df[['Term','MIS_Status']]\n"
   ]
  },
  {
   "cell_type": "markdown",
   "id": "db5c5a25",
   "metadata": {},
   "source": [
    "###### normality test:\n",
    "    This done to variefy the numerical variable is gaussian disturbution or not"
   ]
  },
  {
   "cell_type": "code",
   "execution_count": 54,
   "id": "d4abc0dd",
   "metadata": {},
   "outputs": [
    {
     "name": "stdout",
     "output_type": "stream",
     "text": [
      "Shapiro-Wilk Test Statistic: 0.8996390104293823\n",
      "p-value: 0.0\n",
      "The data does not appear to be normally distributed (reject the null hypothesis).\n"
     ]
    },
    {
     "name": "stderr",
     "output_type": "stream",
     "text": [
      "C:\\Users\\HOME\\AppData\\Roaming\\Python\\Python39\\site-packages\\scipy\\stats\\_morestats.py:1800: UserWarning: p-value may not be accurate for N > 5000.\n",
      "  warnings.warn(\"p-value may not be accurate for N > 5000.\")\n"
     ]
    }
   ],
   "source": [
    "statistic, p_value = stats.shapiro(dataset_1['Term'])\n",
    "print(\"Shapiro-Wilk Test Statistic:\", statistic)\n",
    "print(\"p-value:\", p_value)\n",
    "alpha=0.05\n",
    "\n",
    "if p_value > alpha:\n",
    "    print(\"The data appears to be normally distributed (fail to reject the null hypothesis).\")\n",
    "else:\n",
    "    print(\"The data does not appear to be normally distributed (reject the null hypothesis).\")"
   ]
  },
  {
   "cell_type": "markdown",
   "id": "ec4ab841",
   "metadata": {},
   "source": [
    "###### observation:\n",
    "  Since the sample is population size is more it may not be accurate\n",
    " "
   ]
  },
  {
   "cell_type": "code",
   "execution_count": 55,
   "id": "95c3332e",
   "metadata": {},
   "outputs": [
    {
     "data": {
      "text/plain": [
       "Text(0.5, 1.0, 'Q-Q plot')"
      ]
     },
     "execution_count": 55,
     "metadata": {},
     "output_type": "execute_result"
    },
    {
     "data": {
      "image/png": "[encoded data removed]",
      "text/plain": [
       "<Figure size 640x480 with 1 Axes>"
      ]
     },
     "metadata": {},
     "output_type": "display_data"
    }
   ],
   "source": [
    "#create Q-Q plot\n",
    "stats.probplot(df['Term'],dist='norm',plot=plt)\n",
    "plt.title('Q-Q plot')"
   ]
  },
  {
   "cell_type": "markdown",
   "id": "d9647ca0",
   "metadata": {},
   "source": [
    "###### observation:\n",
    "     we can see the disturbution is not normally disturbuted"
   ]
  },
  {
   "cell_type": "code",
   "execution_count": 56,
   "id": "3d056701",
   "metadata": {},
   "outputs": [],
   "source": [
    "group_pif = df[df['MIS_Status'] == 'P I F']['Term']\n",
    "group_chgoff=df[df['MIS_Status'] == 'CHGOFF']['Term']"
   ]
  },
  {
   "cell_type": "code",
   "execution_count": 57,
   "id": "63f73727",
   "metadata": {},
   "outputs": [
    {
     "name": "stdout",
     "output_type": "stream",
     "text": [
      "Mann-Whitney U statistic: 84587000250.5\n",
      "p-value: 0.0\n",
      "Reject the null hypothesis: There is a significant difference in 'Term' between 'P I F' and 'CHGOFF'.\n"
     ]
    }
   ],
   "source": [
    "#Perform Mann-Whitney U test\n",
    "statistic, p_value = stats.mannwhitneyu(group_pif, group_chgoff)\n",
    "\n",
    "print(\"Mann-Whitney U statistic:\", statistic)\n",
    "print(\"p-value:\", p_value)\n",
    "\n",
    "alpha = 0.05\n",
    "if p_value < alpha:\n",
    "    print(\"Reject the null hypothesis: There is a significant difference in 'Term' between 'P I F' and 'CHGOFF'.\")\n",
    "else:\n",
    "    print(\"Fail to reject the null hypothesis: There is no significant difference in 'Term' between 'P I F' and 'CHGOFF'.\")"
   ]
  },
  {
   "cell_type": "markdown",
   "id": "d3d4eec1",
   "metadata": {},
   "source": [
    "##### observation:\n",
    "    There is effect on MIS_Status on term "
   ]
  },
  {
   "cell_type": "markdown",
   "id": "f6e69ada",
   "metadata": {},
   "source": [
    "###### 2.GrAppv\n",
    " Our second question is there any significant difference between GrAppv and MIS_Status"
   ]
  },
  {
   "cell_type": "markdown",
   "id": "631221bd",
   "metadata": {},
   "source": [
    "###### a.Hypothesis statment:\n",
    "    \n",
    "    Null_hypothesis(H0):There is no significance difference between GrAppv and MIS_Status\n",
    "    \n",
    "    Alternativ_hypothesis(Ha): There is significance difference between GrAppv and MIS_Status\n",
    "        "
   ]
  },
  {
   "cell_type": "markdown",
   "id": "6f119b6e",
   "metadata": {},
   "source": [
    "###### b.Analysis of plan Formulation:\n",
    "    a.Significance_level:We will test our hypothesis at 5% significance level\n",
    "    b. Test_method:Mann-Whitney U test "
   ]
  },
  {
   "cell_type": "code",
   "execution_count": 58,
   "id": "791468a1",
   "metadata": {},
   "outputs": [
    {
     "name": "stdout",
     "output_type": "stream",
     "text": [
      "Shapiro-Wilk Test Statistic: 0.8258512020111084\n",
      "p-value: 0.0\n",
      "The data does not appear to be normally distributed (reject the null hypothesis).\n"
     ]
    },
    {
     "name": "stderr",
     "output_type": "stream",
     "text": [
      "C:\\Users\\HOME\\AppData\\Roaming\\Python\\Python39\\site-packages\\scipy\\stats\\_morestats.py:1800: UserWarning: p-value may not be accurate for N > 5000.\n",
      "  warnings.warn(\"p-value may not be accurate for N > 5000.\")\n"
     ]
    }
   ],
   "source": [
    "#lets check the GrApp is normally disturbuted or not\n",
    "dataset_2=df[['GrAppv','MIS_Status']]\n",
    "\n",
    "statistic, p_value = stats.shapiro(dataset_2['GrAppv'])\n",
    "print(\"Shapiro-Wilk Test Statistic:\", statistic)\n",
    "print(\"p-value:\", p_value)\n",
    "alpha=0.05\n",
    "\n",
    "if p_value > alpha:\n",
    "    print(\"The data appears to be normally distributed (fail to reject the null hypothesis).\")\n",
    "else:\n",
    "    print(\"The data does not appear to be normally distributed (reject the null hypothesis).\")\n"
   ]
  },
  {
   "cell_type": "code",
   "execution_count": 59,
   "id": "fe4d2228",
   "metadata": {},
   "outputs": [
    {
     "data": {
      "text/plain": [
       "Text(0.5, 1.0, 'Q-Q plot of GrAppv')"
      ]
     },
     "execution_count": 59,
     "metadata": {},
     "output_type": "execute_result"
    },
    {
     "data": {
      "image/png": "[encoded data removed]",
      "text/plain": [
       "<Figure size 640x480 with 1 Axes>"
      ]
     },
     "metadata": {},
     "output_type": "display_data"
    }
   ],
   "source": [
    "#lets check Q-Q plot\n",
    "stats.probplot(df['GrAppv'],dist='norm',plot=plt)\n",
    "plt.title('Q-Q plot of GrAppv')"
   ]
  },
  {
   "cell_type": "markdown",
   "id": "d620d49d",
   "metadata": {},
   "source": [
    "###### observation:\n",
    "    The varible GrAppv is not normal disturbuted"
   ]
  },
  {
   "cell_type": "code",
   "execution_count": 60,
   "id": "53dfa407",
   "metadata": {},
   "outputs": [],
   "source": [
    "group_pif_1 = df[df['MIS_Status'] == 'P I F']['GrAppv']\n",
    "group_chgoff_1=df[df['MIS_Status'] == 'CHGOFF']['GrAppv']"
   ]
  },
  {
   "cell_type": "code",
   "execution_count": 61,
   "id": "247b0bef",
   "metadata": {},
   "outputs": [
    {
     "name": "stdout",
     "output_type": "stream",
     "text": [
      "Mann-Whitney U statistic: 68292504133.0\n",
      "p-value: 0.0\n",
      "Reject the null hypothesis: There is a significant difference in 'GrAppv' between 'P I F' and 'CHGOFF'.\n"
     ]
    }
   ],
   "source": [
    "#Perform Mann-Whitney U test\n",
    "statistic, p_value = stats.mannwhitneyu(group_pif_1, group_chgoff_1)\n",
    "\n",
    "print(\"Mann-Whitney U statistic:\", statistic)\n",
    "print(\"p-value:\", p_value)\n",
    "\n",
    "alpha = 0.05\n",
    "if p_value < alpha:\n",
    "    print(\"Reject the null hypothesis: There is a significant difference in 'GrAppv' between 'P I F' and 'CHGOFF'.\")\n",
    "else:\n",
    "    print(\"Fail to reject the null hypothesis: There is no significant difference in 'GrAppv' between 'P I F' and 'CHGOFF'.\")"
   ]
  },
  {
   "cell_type": "markdown",
   "id": "7e413519",
   "metadata": {},
   "source": [
    "###### observation:\n",
    "    There is Significance difference between GrAppv and MIS_Status"
   ]
  },
  {
   "cell_type": "markdown",
   "id": "4e3937e2",
   "metadata": {},
   "source": [
    "###### 3.SBA_Appv\n",
    "  Our third question is that is there any significant difference between MIS_Status"
   ]
  },
  {
   "cell_type": "markdown",
   "id": "9e1f048f",
   "metadata": {},
   "source": [
    "###### a.Hypothesis statment:\n",
    "    \n",
    "    Null_hypothesis(H0):There is no significance difference between SBA_Appv and MIS_Status\n",
    "    \n",
    "    Alternativ_hypothesis(Ha): There is significance difference between SBA_Appv and MIS_Status\n",
    "        "
   ]
  },
  {
   "cell_type": "markdown",
   "id": "e36aa50d",
   "metadata": {},
   "source": [
    "###### b.Analysis of plan Formulation:\n",
    "    a.Significance_level:We will test our hypothesis at 5% significance level\n",
    "    b. Test_method:Mann-Whitney U test "
   ]
  },
  {
   "cell_type": "code",
   "execution_count": 62,
   "id": "9a2fa679",
   "metadata": {},
   "outputs": [
    {
     "name": "stdout",
     "output_type": "stream",
     "text": [
      "Shapiro-Wilk Test Statistic: 0.8380419611930847\n",
      "p-value: 0.0\n",
      "The data does not appear to be normally distributed (reject the null hypothesis).\n"
     ]
    },
    {
     "name": "stderr",
     "output_type": "stream",
     "text": [
      "C:\\Users\\HOME\\AppData\\Roaming\\Python\\Python39\\site-packages\\scipy\\stats\\_morestats.py:1800: UserWarning: p-value may not be accurate for N > 5000.\n",
      "  warnings.warn(\"p-value may not be accurate for N > 5000.\")\n"
     ]
    }
   ],
   "source": [
    "#lets check the SBA_Appv is normally disturbuted or not\n",
    "dataset_3=df[['SBA_Appv','MIS_Status']]\n",
    "\n",
    "statistic, p_value = stats.shapiro(dataset_3['SBA_Appv'])\n",
    "print(\"Shapiro-Wilk Test Statistic:\", statistic)\n",
    "print(\"p-value:\", p_value)\n",
    "alpha=0.05\n",
    "\n",
    "if p_value > alpha:\n",
    "    print(\"The data appears to be normally distributed (fail to reject the null hypothesis).\")\n",
    "else:\n",
    "    print(\"The data does not appear to be normally distributed (reject the null hypothesis).\")"
   ]
  },
  {
   "cell_type": "code",
   "execution_count": 63,
   "id": "eff2134a",
   "metadata": {},
   "outputs": [
    {
     "data": {
      "text/plain": [
       "Text(0.5, 1.0, 'Q-Q plot of SBA_Appv')"
      ]
     },
     "execution_count": 63,
     "metadata": {},
     "output_type": "execute_result"
    },
    {
     "data": {
      "image/png": "[encoded data removed]",
      "text/plain": [
       "<Figure size 640x480 with 1 Axes>"
      ]
     },
     "metadata": {},
     "output_type": "display_data"
    }
   ],
   "source": [
    "#lets check Q-Q plot\n",
    "stats.probplot(df['SBA_Appv'],dist='norm',plot=plt)\n",
    "plt.title('Q-Q plot of SBA_Appv')"
   ]
  },
  {
   "cell_type": "markdown",
   "id": "3faef5dd",
   "metadata": {},
   "source": [
    "###### observation:\n",
    "    The disturbution is non-gaussian disturbution"
   ]
  },
  {
   "cell_type": "code",
   "execution_count": 64,
   "id": "23649703",
   "metadata": {},
   "outputs": [],
   "source": [
    "group_pif_2 = df[df['MIS_Status'] == 'P I F']['SBA_Appv']\n",
    "group_chgoff_2=df[df['MIS_Status'] == 'CHGOFF']['SBA_Appv']"
   ]
  },
  {
   "cell_type": "code",
   "execution_count": 65,
   "id": "1b79cfbe",
   "metadata": {},
   "outputs": [
    {
     "name": "stdout",
     "output_type": "stream",
     "text": [
      "Mann-Whitney U statistic: 69585422540.5\n",
      "p-value: 0.0\n",
      "Reject the null hypothesis: There is a significant difference in 'SBA_Appv' between 'P I F' and 'CHGOFF'.\n"
     ]
    }
   ],
   "source": [
    "#Perform Mann-Whitney U test\n",
    "statistic, p_value = stats.mannwhitneyu(group_pif_2, group_chgoff_2)\n",
    "print(\"Mann-Whitney U statistic:\", statistic)\n",
    "print(\"p-value:\", p_value)\n",
    "\n",
    "alpha = 0.05\n",
    "if p_value < alpha:\n",
    "    print(\"Reject the null hypothesis: There is a significant difference in 'SBA_Appv' between 'P I F' and 'CHGOFF'.\")\n",
    "else:\n",
    "    print(\"Fail to reject the null hypothesis: There is no significant difference in 'SBA_Appv' between 'P I F' and 'CHGOFF'.\")"
   ]
  },
  {
   "cell_type": "markdown",
   "id": "8059319d",
   "metadata": {},
   "source": [
    "###### observation:\n",
    "    There is significant difference in the SBA_Appv and MIS_Status"
   ]
  },
  {
   "cell_type": "markdown",
   "id": "a0064859",
   "metadata": {},
   "source": [
    "###### 4.DisbursementGross\n",
    " Our Question is Isthere any significant difference bewteen DisbursementGross and MIS_Status"
   ]
  },
  {
   "cell_type": "markdown",
   "id": "0e06a500",
   "metadata": {},
   "source": [
    "##### a.Hypothesis statment:\n",
    "    \n",
    "    Null_hypothesis(H0):There is no significance difference between DisbursementGross and MIS_Status\n",
    "    \n",
    "    Alternativ_hypothesis(Ha): There is significance difference between DisbursementGross and MIS_Status\n",
    "        "
   ]
  },
  {
   "cell_type": "markdown",
   "id": "9b949eac",
   "metadata": {},
   "source": [
    "###### b.Analysis of plan Formulation:\n",
    "    a.Significance_level:We will test our hypothesis at 5% significance level\n",
    "    b. Test_method:Mann-Whitney U test "
   ]
  },
  {
   "cell_type": "code",
   "execution_count": 66,
   "id": "345017a9",
   "metadata": {},
   "outputs": [
    {
     "name": "stdout",
     "output_type": "stream",
     "text": [
      "Shapiro-Wilk Test Statistic: 0.6337649822235107\n",
      "p-value: 0.0\n",
      "The data does not appear to be normally distributed (reject the null hypothesis).\n"
     ]
    },
    {
     "name": "stderr",
     "output_type": "stream",
     "text": [
      "C:\\Users\\HOME\\AppData\\Roaming\\Python\\Python39\\site-packages\\scipy\\stats\\_morestats.py:1800: UserWarning: p-value may not be accurate for N > 5000.\n",
      "  warnings.warn(\"p-value may not be accurate for N > 5000.\")\n"
     ]
    }
   ],
   "source": [
    "#lets check the SBA_Appv is normally disturbuted or not\n",
    "dataset_4=df[['DisbursementGross','MIS_Status']]\n",
    "\n",
    "statistic, p_value = stats.shapiro(dataset_4['DisbursementGross'])\n",
    "print(\"Shapiro-Wilk Test Statistic:\", statistic)\n",
    "print(\"p-value:\", p_value)\n",
    "alpha=0.05\n",
    "\n",
    "if p_value > alpha:\n",
    "    print(\"The data appears to be normally distributed (fail to reject the null hypothesis).\")\n",
    "else:\n",
    "    print(\"The data does not appear to be normally distributed (reject the null hypothesis).\")"
   ]
  },
  {
   "cell_type": "code",
   "execution_count": 67,
   "id": "767c5309",
   "metadata": {},
   "outputs": [
    {
     "data": {
      "text/plain": [
       "Text(0.5, 1.0, 'Q-Q plot of DisbursementGross')"
      ]
     },
     "execution_count": 67,
     "metadata": {},
     "output_type": "execute_result"
    },
    {
     "data": {
      "image/png": "[encoded data removed]",
      "text/plain": [
       "<Figure size 640x480 with 1 Axes>"
      ]
     },
     "metadata": {},
     "output_type": "display_data"
    }
   ],
   "source": [
    "#lets check Q-Q plot\n",
    "stats.probplot(df['DisbursementGross'],dist='norm',plot=plt)\n",
    "plt.title('Q-Q plot of DisbursementGross')"
   ]
  },
  {
   "cell_type": "markdown",
   "id": "f7d1aaed",
   "metadata": {},
   "source": [
    "###### observation:\n",
    "    The DisbursementGross is non-Gaussian Disturbution"
   ]
  },
  {
   "cell_type": "code",
   "execution_count": 68,
   "id": "1b6b93f5",
   "metadata": {},
   "outputs": [],
   "source": [
    "group_pif_3 = df[df['MIS_Status'] == 'P I F']['DisbursementGross']\n",
    "group_chgoff_3=df[df['MIS_Status'] == 'CHGOFF']['DisbursementGross']"
   ]
  },
  {
   "cell_type": "code",
   "execution_count": 69,
   "id": "d9e4e2bc",
   "metadata": {},
   "outputs": [
    {
     "name": "stdout",
     "output_type": "stream",
     "text": [
      "Mann-Whitney U statistic: 65992388199.0\n",
      "p-value: 0.0\n",
      "Reject the null hypothesis: There is a significant difference in 'SBA_Appv' between 'P I F' and 'CHGOFF'.\n"
     ]
    }
   ],
   "source": [
    "#Perform Mann-Whitney U test\n",
    "statistic, p_value = stats.mannwhitneyu(group_pif_3, group_chgoff_3)\n",
    "print(\"Mann-Whitney U statistic:\", statistic)\n",
    "print(\"p-value:\", p_value)\n",
    "\n",
    "alpha = 0.05\n",
    "if p_value < alpha:\n",
    "    print(\"Reject the null hypothesis: There is a significant difference in 'SBA_Appv' between 'P I F' and 'CHGOFF'.\")\n",
    "else:\n",
    "    print(\"Fail to reject the null hypothesis: There is no significant difference in 'SBA_Appv' between 'P I F' and 'CHGOFF'.\")"
   ]
  },
  {
   "cell_type": "markdown",
   "id": "3abde4dd",
   "metadata": {},
   "source": [
    "###### observation:\n",
    "    There is significant difference between DisbursementGross and MIS_Status"
   ]
  },
  {
   "cell_type": "markdown",
   "id": "9504c3e6",
   "metadata": {},
   "source": [
    "###### 4.1.2 categorical varibles"
   ]
  },
  {
   "cell_type": "markdown",
   "id": "b13327e4",
   "metadata": {},
   "source": [
    "###### 1.NewExist\n",
    "  Our first question is Isthere any significant different between NewExist and MIS_Status"
   ]
  },
  {
   "cell_type": "markdown",
   "id": "8bffea44",
   "metadata": {},
   "source": [
    "###### a.Hypothesis statment:\n",
    "    \n",
    "    Null_hypothesis(H0):There is no significance difference between NewExist and MIS_Status\n",
    "    \n",
    "    Alternativ_hypothesis(Ha): There is significance difference between NewExist and MIS_Status"
   ]
  },
  {
   "cell_type": "markdown",
   "id": "20a2fe48",
   "metadata": {},
   "source": [
    "###### b.Analysis of plan Formulation:\n",
    "    a.Significance_level:We will test our hypothesis at 5% significance level\n",
    "    b.Test_method:Chi-squared test of independence which checks the relationship between NewExist and MIS_Status"
   ]
  },
  {
   "cell_type": "code",
   "execution_count": 70,
   "id": "5626730f",
   "metadata": {},
   "outputs": [
    {
     "name": "stdout",
     "output_type": "stream",
     "text": [
      "Chi-squared statistic: 372.3480984563565\n",
      "Degrees of freedom: 1\n",
      "p-value: 5.7669289449592594e-83\n",
      "Reject the null hypothesis: There is a significant association between 'NewExist' and 'MIS_Status'.\n"
     ]
    }
   ],
   "source": [
    "contingency_table = pd.crosstab(df['NewExist'], df['MIS_Status'])\n",
    "\n",
    "chi2_stat, p_value, dof, expected = stats.chi2_contingency(contingency_table)\n",
    "\n",
    "print(\"Chi-squared statistic:\", chi2_stat)\n",
    "print(\"Degrees of freedom:\", dof)\n",
    "print(\"p-value:\", p_value)\n",
    "\n",
    "alpha = 0.05  \n",
    "if p_value < alpha:\n",
    "    print(\"Reject the null hypothesis: There is a significant association between 'NewExist' and 'MIS_Status'.\")\n",
    "else:\n",
    "    print(\"Fail to reject the null hypothesis: There is no significant association between 'Variable1' and 'Variable2'.\")"
   ]
  },
  {
   "cell_type": "markdown",
   "id": "0d3cb6d9",
   "metadata": {},
   "source": [
    "###### observation:\n",
    "    There is significant relationship between NewExist and MIS_Status"
   ]
  },
  {
   "cell_type": "markdown",
   "id": "388a4710",
   "metadata": {},
   "source": [
    "###### 2.CreateJob\n",
    "  Our Second Question is that there is any significant relationship between CreateJob and MIS_Status"
   ]
  },
  {
   "cell_type": "markdown",
   "id": "4351fd76",
   "metadata": {},
   "source": [
    "###### a.Hypothesis statment:\n",
    "    \n",
    "    Null_hypothesis(H0):There is no significance difference between CreateJob and MIS_Status\n",
    "    \n",
    "    Alternativ_hypothesis(Ha): There is significance difference between CreateJob and MIS_Status"
   ]
  },
  {
   "cell_type": "markdown",
   "id": "84d0f5fe",
   "metadata": {},
   "source": [
    "###### b.Analysis of plan Formulation:\n",
    "    a.Significance_level:We will test our hypothesis at 5% significance level\n",
    "    b.Test_method:Chi-squared test of independence which checks the relationship between CreateJob and MIS_Status"
   ]
  },
  {
   "cell_type": "markdown",
   "id": "5df930a6",
   "metadata": {},
   "source": [
    "###### "
   ]
  },
  {
   "cell_type": "code",
   "execution_count": 71,
   "id": "902e8969",
   "metadata": {},
   "outputs": [
    {
     "name": "stdout",
     "output_type": "stream",
     "text": [
      "Chi-squared statistic: 11374.894382103399\n",
      "Degrees of freedom: 2\n",
      "p-value: 0.0\n",
      "Reject the null hypothesis: There is a significant association between ' CreateJob' and 'MIS_Status'.\n"
     ]
    }
   ],
   "source": [
    "contingency_table = pd.crosstab(df['CreateJob'], df['MIS_Status'])\n",
    "\n",
    "chi2_stat, p_value, dof, expected = stats.chi2_contingency(contingency_table)\n",
    "\n",
    "print(\"Chi-squared statistic:\", chi2_stat)\n",
    "print(\"Degrees of freedom:\", dof)\n",
    "print(\"p-value:\", p_value)\n",
    "\n",
    "alpha = 0.05  \n",
    "if p_value < alpha:\n",
    "    print(\"Reject the null hypothesis: There is a significant association between ' CreateJob' and 'MIS_Status'.\")\n",
    "else:\n",
    "    print(\"Fail to reject the null hypothesis: There is no significant association between ' CreateJob' and 'MIS_Status'.\")"
   ]
  },
  {
   "cell_type": "markdown",
   "id": "13f237a3",
   "metadata": {},
   "source": [
    "###### observation:\n",
    "    There is significant relationship between CreateJob and MIS_Status"
   ]
  },
  {
   "cell_type": "code",
   "execution_count": 72,
   "id": "c15cacdf",
   "metadata": {},
   "outputs": [
    {
     "data": {
      "text/plain": [
       "Index(['Name', 'City', 'State', 'Bank', 'BankState', 'ApprovalFY', 'RevLineCr',\n",
       "       'LowDoc', 'MIS_Status'],\n",
       "      dtype='object')"
      ]
     },
     "execution_count": 72,
     "metadata": {},
     "output_type": "execute_result"
    }
   ],
   "source": [
    "#lets relationship by statstically\n",
    "categorical_features"
   ]
  },
  {
   "cell_type": "code",
   "execution_count": 73,
   "id": "d5e0b7e9",
   "metadata": {},
   "outputs": [],
   "source": [
    "#we select perticlur features for hypthesis testing\n",
    "x=['UrbanRural','RevLineCr','LowDoc']"
   ]
  },
  {
   "cell_type": "code",
   "execution_count": 74,
   "id": "be8ce278",
   "metadata": {},
   "outputs": [],
   "source": [
    "\n",
    "\n",
    "def hypothesis_testing(column, df):\n",
    "    print(\"Null hypothesis (H0): There is no significant difference between '{}' and 'MIS_Status'\".format(column))\n",
    "    print(\"Alternative hypothesis (Ha): There is a significant difference between '{}' and 'MIS_Status'\".format(column))\n",
    "    print(\"Significance level: We will test our hypothesis at a 5% significance level\")\n",
    "    print(\"Test method: Chi-squared test of independence, checking the relationship between '{}' and 'MIS_Status'\".format(column))\n",
    "    \n",
    "    contingency_table = pd.crosstab(df[column], df['MIS_Status'])\n",
    "    \n",
    "    chi2_stat, p_value, dof, expected = stats.chi2_contingency(contingency_table)\n",
    "    print(\"Chi-squared statistic:\", chi2_stat)\n",
    "    print(\"Degrees of freedom:\", dof)\n",
    "    print(\"p-value:\", p_value)\n",
    "    \n",
    "    alpha = 0.05\n",
    "    if p_value < alpha:\n",
    "        print(\"Reject the null hypothesis: There is a significant association between '{}' and 'MIS_Status'\".format(column))\n",
    "    else:\n",
    "        print(\"Fail to reject the null hypothesis: There is no significant association between '{}' and 'MIS_Status'\".format(column))\n"
   ]
  },
  {
   "cell_type": "markdown",
   "id": "ff265449",
   "metadata": {},
   "source": [
    "###### 3.UrbanRural\n",
    "  Our Question is there any signifiacant difference between UrbanRural and MIS_Status"
   ]
  },
  {
   "cell_type": "code",
   "execution_count": 75,
   "id": "a65cd721",
   "metadata": {},
   "outputs": [
    {
     "name": "stdout",
     "output_type": "stream",
     "text": [
      "Null hypothesis (H0): There is no significant difference between 'UrbanRural' and 'MIS_Status'\n",
      "Alternative hypothesis (Ha): There is a significant difference between 'UrbanRural' and 'MIS_Status'\n",
      "Significance level: We will test our hypothesis at a 5% significance level\n",
      "Test method: Chi-squared test of independence, checking the relationship between 'UrbanRural' and 'MIS_Status'\n",
      "Chi-squared statistic: 36637.0097744402\n",
      "Degrees of freedom: 2\n",
      "p-value: 0.0\n",
      "Reject the null hypothesis: There is a significant association between 'UrbanRural' and 'MIS_Status'\n"
     ]
    }
   ],
   "source": [
    "hypothesis_testing('UrbanRural',df)"
   ]
  },
  {
   "cell_type": "markdown",
   "id": "a6be67dd",
   "metadata": {},
   "source": [
    "###### observation:\n",
    "    There is significant difference between UrbanRural and MIS_Status"
   ]
  },
  {
   "cell_type": "markdown",
   "id": "c535ee13",
   "metadata": {},
   "source": [
    "###### 4.RevLineCr\n",
    "  Our Question is there any significant relationship between RevLineCr and MIS_Status"
   ]
  },
  {
   "cell_type": "code",
   "execution_count": 76,
   "id": "0eace608",
   "metadata": {},
   "outputs": [
    {
     "name": "stdout",
     "output_type": "stream",
     "text": [
      "Null hypothesis (H0): There is no significant difference between 'RevLineCr' and 'MIS_Status'\n",
      "Alternative hypothesis (Ha): There is a significant difference between 'RevLineCr' and 'MIS_Status'\n",
      "Significance level: We will test our hypothesis at a 5% significance level\n",
      "Test method: Chi-squared test of independence, checking the relationship between 'RevLineCr' and 'MIS_Status'\n",
      "Chi-squared statistic: 12908.417570357435\n",
      "Degrees of freedom: 1\n",
      "p-value: 0.0\n",
      "Reject the null hypothesis: There is a significant association between 'RevLineCr' and 'MIS_Status'\n"
     ]
    }
   ],
   "source": [
    "hypothesis_testing('RevLineCr',df)"
   ]
  },
  {
   "cell_type": "markdown",
   "id": "ceedb08c",
   "metadata": {},
   "source": [
    "###### observation:\n",
    "    There is significant difference between RevLineCr and MIS_Status\n",
    "    "
   ]
  },
  {
   "cell_type": "markdown",
   "id": "49129915",
   "metadata": {},
   "source": [
    "###### 5.LowDoc\n",
    "Our Question is there any significant relationship between LowDoc and MIS_Status"
   ]
  },
  {
   "cell_type": "code",
   "execution_count": 77,
   "id": "21b4a5c0",
   "metadata": {},
   "outputs": [
    {
     "name": "stdout",
     "output_type": "stream",
     "text": [
      "Null hypothesis (H0): There is no significant difference between 'LowDoc' and 'MIS_Status'\n",
      "Alternative hypothesis (Ha): There is a significant difference between 'LowDoc' and 'MIS_Status'\n",
      "Significance level: We will test our hypothesis at a 5% significance level\n",
      "Test method: Chi-squared test of independence, checking the relationship between 'LowDoc' and 'MIS_Status'\n",
      "Chi-squared statistic: 5557.412225605807\n",
      "Degrees of freedom: 1\n",
      "p-value: 0.0\n",
      "Reject the null hypothesis: There is a significant association between 'LowDoc' and 'MIS_Status'\n"
     ]
    }
   ],
   "source": [
    "hypothesis_testing('LowDoc',df)"
   ]
  },
  {
   "cell_type": "markdown",
   "id": "1184eaf8",
   "metadata": {},
   "source": [
    "###### Observation:\n",
    "    There is significant difference between LowDoc and MIS_Status"
   ]
  },
  {
   "cell_type": "code",
   "execution_count": 78,
   "id": "c2457d50",
   "metadata": {},
   "outputs": [
    {
     "data": {
      "text/html": [
       "<div>\n",
       "<style scoped>\n",
       "    .dataframe tbody tr th:only-of-type {\n",
       "        vertical-align: middle;\n",
       "    }\n",
       "\n",
       "    .dataframe tbody tr th {\n",
       "        vertical-align: top;\n",
       "    }\n",
       "\n",
       "    .dataframe thead th {\n",
       "        text-align: right;\n",
       "    }\n",
       "</style>\n",
       "<table border=\"1\" class=\"dataframe\">\n",
       "  <thead>\n",
       "    <tr style=\"text-align: right;\">\n",
       "      <th></th>\n",
       "      <th>Name</th>\n",
       "      <th>City</th>\n",
       "      <th>State</th>\n",
       "      <th>Bank</th>\n",
       "      <th>BankState</th>\n",
       "      <th>ApprovalFY</th>\n",
       "      <th>Term</th>\n",
       "      <th>NoEmp</th>\n",
       "      <th>NewExist</th>\n",
       "      <th>CreateJob</th>\n",
       "      <th>...</th>\n",
       "      <th>FranchiseCode</th>\n",
       "      <th>UrbanRural</th>\n",
       "      <th>RevLineCr</th>\n",
       "      <th>LowDoc</th>\n",
       "      <th>DisbursementGross</th>\n",
       "      <th>BalanceGross</th>\n",
       "      <th>MIS_Status</th>\n",
       "      <th>GrAppv</th>\n",
       "      <th>SBA_Appv</th>\n",
       "      <th>Days_took_Disbursement</th>\n",
       "    </tr>\n",
       "  </thead>\n",
       "  <tbody>\n",
       "    <tr>\n",
       "      <th>0</th>\n",
       "      <td>ABC HOBBYCRAFT</td>\n",
       "      <td>EVANSVILLE</td>\n",
       "      <td>IN</td>\n",
       "      <td>FIFTH THIRD BANK</td>\n",
       "      <td>OH</td>\n",
       "      <td>1997</td>\n",
       "      <td>84.0</td>\n",
       "      <td>4.0</td>\n",
       "      <td>2.0</td>\n",
       "      <td>0.0</td>\n",
       "      <td>...</td>\n",
       "      <td>1</td>\n",
       "      <td>0</td>\n",
       "      <td>N</td>\n",
       "      <td>Y</td>\n",
       "      <td>60000.0</td>\n",
       "      <td>0.0</td>\n",
       "      <td>P I F</td>\n",
       "      <td>60000.0</td>\n",
       "      <td>48000.0</td>\n",
       "      <td>730 days</td>\n",
       "    </tr>\n",
       "    <tr>\n",
       "      <th>1</th>\n",
       "      <td>LANDMARK BAR &amp; GRILLE (THE)</td>\n",
       "      <td>NEW PARIS</td>\n",
       "      <td>IN</td>\n",
       "      <td>1ST SOURCE BANK</td>\n",
       "      <td>IN</td>\n",
       "      <td>1997</td>\n",
       "      <td>60.0</td>\n",
       "      <td>2.0</td>\n",
       "      <td>2.0</td>\n",
       "      <td>0.0</td>\n",
       "      <td>...</td>\n",
       "      <td>1</td>\n",
       "      <td>0</td>\n",
       "      <td>N</td>\n",
       "      <td>Y</td>\n",
       "      <td>40000.0</td>\n",
       "      <td>0.0</td>\n",
       "      <td>P I F</td>\n",
       "      <td>40000.0</td>\n",
       "      <td>32000.0</td>\n",
       "      <td>92 days</td>\n",
       "    </tr>\n",
       "    <tr>\n",
       "      <th>2</th>\n",
       "      <td>WHITLOCK DDS, TODD M.</td>\n",
       "      <td>BLOOMINGTON</td>\n",
       "      <td>IN</td>\n",
       "      <td>GRANT COUNTY STATE BANK</td>\n",
       "      <td>IN</td>\n",
       "      <td>1997</td>\n",
       "      <td>180.0</td>\n",
       "      <td>7.0</td>\n",
       "      <td>1.0</td>\n",
       "      <td>0.0</td>\n",
       "      <td>...</td>\n",
       "      <td>1</td>\n",
       "      <td>0</td>\n",
       "      <td>N</td>\n",
       "      <td>N</td>\n",
       "      <td>287000.0</td>\n",
       "      <td>0.0</td>\n",
       "      <td>P I F</td>\n",
       "      <td>287000.0</td>\n",
       "      <td>215250.0</td>\n",
       "      <td>306 days</td>\n",
       "    </tr>\n",
       "    <tr>\n",
       "      <th>3</th>\n",
       "      <td>BIG BUCKS PAWN &amp; JEWELRY, LLC</td>\n",
       "      <td>BROKEN ARROW</td>\n",
       "      <td>OK</td>\n",
       "      <td>1ST NATL BK &amp; TR CO OF BROKEN</td>\n",
       "      <td>OK</td>\n",
       "      <td>1997</td>\n",
       "      <td>60.0</td>\n",
       "      <td>2.0</td>\n",
       "      <td>1.0</td>\n",
       "      <td>0.0</td>\n",
       "      <td>...</td>\n",
       "      <td>1</td>\n",
       "      <td>0</td>\n",
       "      <td>N</td>\n",
       "      <td>Y</td>\n",
       "      <td>35000.0</td>\n",
       "      <td>0.0</td>\n",
       "      <td>P I F</td>\n",
       "      <td>35000.0</td>\n",
       "      <td>28000.0</td>\n",
       "      <td>122 days</td>\n",
       "    </tr>\n",
       "    <tr>\n",
       "      <th>4</th>\n",
       "      <td>ANASTASIA CONFECTIONS, INC.</td>\n",
       "      <td>ORLANDO</td>\n",
       "      <td>FL</td>\n",
       "      <td>FLORIDA BUS. DEVEL CORP</td>\n",
       "      <td>FL</td>\n",
       "      <td>1997</td>\n",
       "      <td>84.0</td>\n",
       "      <td>14.0</td>\n",
       "      <td>1.0</td>\n",
       "      <td>0.0</td>\n",
       "      <td>...</td>\n",
       "      <td>1</td>\n",
       "      <td>0</td>\n",
       "      <td>N</td>\n",
       "      <td>N</td>\n",
       "      <td>229000.0</td>\n",
       "      <td>0.0</td>\n",
       "      <td>P I F</td>\n",
       "      <td>229000.0</td>\n",
       "      <td>229000.0</td>\n",
       "      <td>75 days</td>\n",
       "    </tr>\n",
       "  </tbody>\n",
       "</table>\n",
       "<p>5 rows × 21 columns</p>\n",
       "</div>"
      ],
      "text/plain": [
       "                            Name          City State  \\\n",
       "0                 ABC HOBBYCRAFT    EVANSVILLE    IN   \n",
       "1    LANDMARK BAR & GRILLE (THE)     NEW PARIS    IN   \n",
       "2          WHITLOCK DDS, TODD M.   BLOOMINGTON    IN   \n",
       "3  BIG BUCKS PAWN & JEWELRY, LLC  BROKEN ARROW    OK   \n",
       "4    ANASTASIA CONFECTIONS, INC.       ORLANDO    FL   \n",
       "\n",
       "                            Bank BankState ApprovalFY   Term  NoEmp  NewExist  \\\n",
       "0               FIFTH THIRD BANK        OH       1997   84.0    4.0       2.0   \n",
       "1                1ST SOURCE BANK        IN       1997   60.0    2.0       2.0   \n",
       "2        GRANT COUNTY STATE BANK        IN       1997  180.0    7.0       1.0   \n",
       "3  1ST NATL BK & TR CO OF BROKEN        OK       1997   60.0    2.0       1.0   \n",
       "4        FLORIDA BUS. DEVEL CORP        FL       1997   84.0   14.0       1.0   \n",
       "\n",
       "   CreateJob  ...  FranchiseCode  UrbanRural  RevLineCr LowDoc  \\\n",
       "0        0.0  ...              1           0          N      Y   \n",
       "1        0.0  ...              1           0          N      Y   \n",
       "2        0.0  ...              1           0          N      N   \n",
       "3        0.0  ...              1           0          N      Y   \n",
       "4        0.0  ...              1           0          N      N   \n",
       "\n",
       "  DisbursementGross  BalanceGross  MIS_Status    GrAppv  SBA_Appv  \\\n",
       "0           60000.0           0.0       P I F   60000.0   48000.0   \n",
       "1           40000.0           0.0       P I F   40000.0   32000.0   \n",
       "2          287000.0           0.0       P I F  287000.0  215250.0   \n",
       "3           35000.0           0.0       P I F   35000.0   28000.0   \n",
       "4          229000.0           0.0       P I F  229000.0  229000.0   \n",
       "\n",
       "   Days_took_Disbursement  \n",
       "0                730 days  \n",
       "1                 92 days  \n",
       "2                306 days  \n",
       "3                122 days  \n",
       "4                 75 days  \n",
       "\n",
       "[5 rows x 21 columns]"
      ]
     },
     "execution_count": 78,
     "metadata": {},
     "output_type": "execute_result"
    }
   ],
   "source": [
    "df.head()"
   ]
  },
  {
   "cell_type": "code",
   "execution_count": 79,
   "id": "19e9307c",
   "metadata": {},
   "outputs": [],
   "source": [
    "df.drop(['Name','City','State','Bank','ApprovalFY','FranchiseCode','BalanceGross','BankState'],axis=1,inplace=True)"
   ]
  },
  {
   "cell_type": "code",
   "execution_count": 80,
   "id": "f08e8315",
   "metadata": {},
   "outputs": [
    {
     "data": {
      "text/html": [
       "<div>\n",
       "<style scoped>\n",
       "    .dataframe tbody tr th:only-of-type {\n",
       "        vertical-align: middle;\n",
       "    }\n",
       "\n",
       "    .dataframe tbody tr th {\n",
       "        vertical-align: top;\n",
       "    }\n",
       "\n",
       "    .dataframe thead th {\n",
       "        text-align: right;\n",
       "    }\n",
       "</style>\n",
       "<table border=\"1\" class=\"dataframe\">\n",
       "  <thead>\n",
       "    <tr style=\"text-align: right;\">\n",
       "      <th></th>\n",
       "      <th>Term</th>\n",
       "      <th>NoEmp</th>\n",
       "      <th>NewExist</th>\n",
       "      <th>CreateJob</th>\n",
       "      <th>RetainedJob</th>\n",
       "      <th>UrbanRural</th>\n",
       "      <th>RevLineCr</th>\n",
       "      <th>LowDoc</th>\n",
       "      <th>DisbursementGross</th>\n",
       "      <th>MIS_Status</th>\n",
       "      <th>GrAppv</th>\n",
       "      <th>SBA_Appv</th>\n",
       "      <th>Days_took_Disbursement</th>\n",
       "    </tr>\n",
       "  </thead>\n",
       "  <tbody>\n",
       "    <tr>\n",
       "      <th>0</th>\n",
       "      <td>84.0</td>\n",
       "      <td>4.0</td>\n",
       "      <td>2.0</td>\n",
       "      <td>0.0</td>\n",
       "      <td>0</td>\n",
       "      <td>0</td>\n",
       "      <td>N</td>\n",
       "      <td>Y</td>\n",
       "      <td>60000.0</td>\n",
       "      <td>P I F</td>\n",
       "      <td>60000.0</td>\n",
       "      <td>48000.0</td>\n",
       "      <td>730 days</td>\n",
       "    </tr>\n",
       "    <tr>\n",
       "      <th>1</th>\n",
       "      <td>60.0</td>\n",
       "      <td>2.0</td>\n",
       "      <td>2.0</td>\n",
       "      <td>0.0</td>\n",
       "      <td>0</td>\n",
       "      <td>0</td>\n",
       "      <td>N</td>\n",
       "      <td>Y</td>\n",
       "      <td>40000.0</td>\n",
       "      <td>P I F</td>\n",
       "      <td>40000.0</td>\n",
       "      <td>32000.0</td>\n",
       "      <td>92 days</td>\n",
       "    </tr>\n",
       "    <tr>\n",
       "      <th>2</th>\n",
       "      <td>180.0</td>\n",
       "      <td>7.0</td>\n",
       "      <td>1.0</td>\n",
       "      <td>0.0</td>\n",
       "      <td>0</td>\n",
       "      <td>0</td>\n",
       "      <td>N</td>\n",
       "      <td>N</td>\n",
       "      <td>287000.0</td>\n",
       "      <td>P I F</td>\n",
       "      <td>287000.0</td>\n",
       "      <td>215250.0</td>\n",
       "      <td>306 days</td>\n",
       "    </tr>\n",
       "    <tr>\n",
       "      <th>3</th>\n",
       "      <td>60.0</td>\n",
       "      <td>2.0</td>\n",
       "      <td>1.0</td>\n",
       "      <td>0.0</td>\n",
       "      <td>0</td>\n",
       "      <td>0</td>\n",
       "      <td>N</td>\n",
       "      <td>Y</td>\n",
       "      <td>35000.0</td>\n",
       "      <td>P I F</td>\n",
       "      <td>35000.0</td>\n",
       "      <td>28000.0</td>\n",
       "      <td>122 days</td>\n",
       "    </tr>\n",
       "    <tr>\n",
       "      <th>4</th>\n",
       "      <td>84.0</td>\n",
       "      <td>14.0</td>\n",
       "      <td>1.0</td>\n",
       "      <td>0.0</td>\n",
       "      <td>7</td>\n",
       "      <td>0</td>\n",
       "      <td>N</td>\n",
       "      <td>N</td>\n",
       "      <td>229000.0</td>\n",
       "      <td>P I F</td>\n",
       "      <td>229000.0</td>\n",
       "      <td>229000.0</td>\n",
       "      <td>75 days</td>\n",
       "    </tr>\n",
       "  </tbody>\n",
       "</table>\n",
       "</div>"
      ],
      "text/plain": [
       "    Term  NoEmp  NewExist  CreateJob  RetainedJob  UrbanRural RevLineCr  \\\n",
       "0   84.0    4.0       2.0        0.0            0           0         N   \n",
       "1   60.0    2.0       2.0        0.0            0           0         N   \n",
       "2  180.0    7.0       1.0        0.0            0           0         N   \n",
       "3   60.0    2.0       1.0        0.0            0           0         N   \n",
       "4   84.0   14.0       1.0        0.0            7           0         N   \n",
       "\n",
       "  LowDoc  DisbursementGross MIS_Status    GrAppv  SBA_Appv  \\\n",
       "0      Y            60000.0      P I F   60000.0   48000.0   \n",
       "1      Y            40000.0      P I F   40000.0   32000.0   \n",
       "2      N           287000.0      P I F  287000.0  215250.0   \n",
       "3      Y            35000.0      P I F   35000.0   28000.0   \n",
       "4      N           229000.0      P I F  229000.0  229000.0   \n",
       "\n",
       "  Days_took_Disbursement  \n",
       "0               730 days  \n",
       "1                92 days  \n",
       "2               306 days  \n",
       "3               122 days  \n",
       "4                75 days  "
      ]
     },
     "execution_count": 80,
     "metadata": {},
     "output_type": "execute_result"
    }
   ],
   "source": [
    "df.head()"
   ]
  },
  {
   "cell_type": "code",
   "execution_count": 81,
   "id": "2b61ef9f",
   "metadata": {},
   "outputs": [],
   "source": [
    "df.to_csv(\"Credit_Analysis.csv\",index=False)"
   ]
  },
  {
   "cell_type": "code",
   "execution_count": 83,
   "id": "9ae820d0",
   "metadata": {},
   "outputs": [
    {
     "data": {
      "text/plain": [
       "(869181, 13)"
      ]
     },
     "execution_count": 83,
     "metadata": {},
     "output_type": "execute_result"
    }
   ],
   "source": [
    "df.shape"
   ]
  },
  {
   "cell_type": "code",
   "execution_count": null,
   "id": "e43b5199",
   "metadata": {},
   "outputs": [],
   "source": []
  }
 ],
 "metadata": {
  "kernelspec": {
   "display_name": "Python 3 (ipykernel)",
   "language": "python",
   "name": "python3"
  },
  "language_info": {
   "codemirror_mode": {
    "name": "ipython",
    "version": 3
   },
   "file_extension": ".py",
   "mimetype": "text/x-python",
   "name": "python",
   "nbconvert_exporter": "python",
   "pygments_lexer": "ipython3",
   "version": "3.9.13"
  }
 },
 "nbformat": 4,
 "nbformat_minor": 5
}
