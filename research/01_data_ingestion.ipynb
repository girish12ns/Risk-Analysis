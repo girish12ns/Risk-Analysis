{
 "cells": [
  {
   "cell_type": "code",
   "execution_count": 30,
   "metadata": {},
   "outputs": [],
   "source": [
    "import os\n"
   ]
  },
  {
   "cell_type": "code",
   "execution_count": 55,
   "metadata": {},
   "outputs": [
    {
     "data": {
      "text/plain": [
       "'e:\\\\Risk-Analysis'"
      ]
     },
     "execution_count": 55,
     "metadata": {},
     "output_type": "execute_result"
    }
   ],
   "source": [
    "%pwd"
   ]
  },
  {
   "cell_type": "code",
   "execution_count": 5,
   "metadata": {},
   "outputs": [],
   "source": [
    "os.chdir('../')"
   ]
  },
  {
   "cell_type": "code",
   "execution_count": 6,
   "metadata": {},
   "outputs": [
    {
     "data": {
      "text/plain": [
       "'e:\\\\Risk-Analysis'"
      ]
     },
     "execution_count": 6,
     "metadata": {},
     "output_type": "execute_result"
    }
   ],
   "source": [
    "%pwd"
   ]
  },
  {
   "cell_type": "code",
   "execution_count": 56,
   "metadata": {},
   "outputs": [],
   "source": [
    "from dataclasses import dataclass\n",
    "from pathlib import Path\n",
    "\n",
    "@dataclass(frozen=True)\n",
    "class DataIngestionConfig:\n",
    "    root_dir : Path\n",
    "    source_dir : Path\n",
    "    train_dir : Path\n",
    "    test_dir :Path\n",
    "  \n"
   ]
  },
  {
   "cell_type": "code",
   "execution_count": 39,
   "metadata": {},
   "outputs": [],
   "source": [
    "from src.Risk_Analysis.constants import config_file\n",
    "from src.Risk_Analysis.constants import params_file\n",
    "from src.Risk_Analysis.utils.common import real_yaml,create_directories"
   ]
  },
  {
   "cell_type": "code",
   "execution_count": 57,
   "metadata": {},
   "outputs": [],
   "source": [
    "class Configuration:\n",
    "    def __init__(self,config=config_file,params=params_file):\n",
    "        self.config=real_yaml(config)\n",
    "        self.params=real_yaml(params)\n",
    "        create_directories([self.config.Artifacts])\n",
    "\n",
    "    def data_ingestion_config(self)->DataIngestionConfig:\n",
    "        data_ingestion=self.config.Data_Ingestion\n",
    "        create_directories([data_ingestion.root_dir])\n",
    "\n",
    "        data_ingestion_config=DataIngestionConfig(\n",
    "            root_dir=data_ingestion.root_dir,\n",
    "            source_dir=data_ingestion.source_dir,\n",
    "            train_dir=data_ingestion.train_dir,\n",
    "            test_dir=data_ingestion.test_dir\n",
    "  \n",
    "        )\n",
    "        return data_ingestion_config\n"
   ]
  },
  {
   "cell_type": "code",
   "execution_count": 48,
   "metadata": {},
   "outputs": [],
   "source": [
    "from sklearn.model_selection import train_test_split\n",
    "import pandas as pd\n",
    "import numpy as np"
   ]
  },
  {
   "cell_type": "code",
   "execution_count": 58,
   "metadata": {},
   "outputs": [],
   "source": [
    "class DataIngestion:\n",
    "    def __init__(self,config):\n",
    "        self.config=config\n",
    "\n",
    "    def get_data_ingestion(self):\n",
    "\n",
    "        df=pd.read_csv(self.config.source_dir)\n",
    "\n",
    "        train_set,test_set=train_test_split(df,test_size=0.2,random_state=42)\n",
    "\n",
    "        train_set.to_csv(self.config.train_dir,index=False)\n",
    "\n",
    "        test_set.to_csv(self.config.test_dir,index=False)\n",
    "    \n",
    "        return train_set,test_set"
   ]
  },
  {
   "cell_type": "code",
   "execution_count": 59,
   "metadata": {},
   "outputs": [
    {
     "name": "stdout",
     "output_type": "stream",
     "text": [
      "[2023-09-24 11:16:36,012 - Risk Analysis - INFO - directory is created ]\n",
      "[2023-09-24 11:16:36,016 - Risk Analysis - INFO - directory is created ]\n"
     ]
    }
   ],
   "source": [
    "try:\n",
    "    data_config=Configuration()\n",
    "    ingestion_config=data_config.data_ingestion_config()\n",
    "\n",
    "    data_ingestion=DataIngestion(ingestion_config)\n",
    "    train_set,test_set=data_ingestion.get_data_ingestion()\n",
    "\n",
    "except Exception as e:\n",
    "    raise e"
   ]
  },
  {
   "cell_type": "code",
   "execution_count": null,
   "metadata": {},
   "outputs": [],
   "source": []
  }
 ],
 "metadata": {
  "kernelspec": {
   "display_name": "Risk",
   "language": "python",
   "name": "python3"
  },
  "language_info": {
   "codemirror_mode": {
    "name": "ipython",
    "version": 3
   },
   "file_extension": ".py",
   "mimetype": "text/x-python",
   "name": "python",
   "nbconvert_exporter": "python",
   "pygments_lexer": "ipython3",
   "version": "3.8.18"
  },
  "orig_nbformat": 4
 },
 "nbformat": 4,
 "nbformat_minor": 2
}
