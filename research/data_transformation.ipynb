{
 "cells": [
  {
   "cell_type": "code",
   "execution_count": 1,
   "metadata": {},
   "outputs": [],
   "source": [
    "import os"
   ]
  },
  {
   "cell_type": "code",
   "execution_count": 2,
   "metadata": {},
   "outputs": [
    {
     "data": {
      "text/plain": [
       "'e:\\\\Risk-Analysis\\\\research'"
      ]
     },
     "execution_count": 2,
     "metadata": {},
     "output_type": "execute_result"
    }
   ],
   "source": [
    "%pwd"
   ]
  },
  {
   "cell_type": "code",
   "execution_count": 3,
   "metadata": {},
   "outputs": [],
   "source": [
    "os.chdir('../')"
   ]
  },
  {
   "cell_type": "code",
   "execution_count": 4,
   "metadata": {},
   "outputs": [
    {
     "data": {
      "text/plain": [
       "'e:\\\\Risk-Analysis'"
      ]
     },
     "execution_count": 4,
     "metadata": {},
     "output_type": "execute_result"
    }
   ],
   "source": [
    "%pwd"
   ]
  },
  {
   "cell_type": "code",
   "execution_count": 6,
   "metadata": {},
   "outputs": [],
   "source": [
    "from pathlib import Path\n",
    "from dataclasses import dataclass\n",
    "\n",
    "@dataclass(frozen=True)\n",
    "class DataTransformationConfig:\n",
    "    transformation_dir:Path\n",
    "    preprocessor_dir :Path\n",
    "    \n"
   ]
  },
  {
   "cell_type": "code",
   "execution_count": 7,
   "metadata": {},
   "outputs": [],
   "source": [
    "from src.Risk_Analysis.constants import config_file\n",
    "from src.Risk_Analysis.constants import params_file\n",
    "from src.Risk_Analysis.utils.common import real_yaml,create_directories"
   ]
  },
  {
   "cell_type": "code",
   "execution_count": 9,
   "metadata": {},
   "outputs": [],
   "source": [
    "class Configuration:\n",
    "    def __init__(self,config=config_file,params=params_file):\n",
    "        self.config=real_yaml(config)\n",
    "        self.params=real_yaml(params)\n",
    "        create_directories([self.config.Artifacts])\n",
    "\n",
    "    def get_transformations_config(self)->DataTransformationConfig:\n",
    "        data_trans=self.config.Data_Transformation\n",
    "\n",
    "        create_directories([data_trans.transformation_dir])\n",
    "\n",
    "        data_transformation=DataTransformationConfig(\n",
    "            transformation_dir=data_trans.transformation_dir,\n",
    "            preprocessor_dir=data_trans.preprocessor_dir\n",
    "        )\n",
    "\n",
    "        return data_transformation"
   ]
  },
  {
   "cell_type": "code",
   "execution_count": 10,
   "metadata": {},
   "outputs": [],
   "source": [
    "from sklearn.model_selection import train_test_split\n",
    "from sklearn.preprocessing import StandardScaler,OneHotEncoder,OrdinalEncoder\n",
    "from sklearn.impute import SimpleImputer\n",
    "from sklearn.pipeline import Pipeline\n",
    "from sklearn.compose import ColumnTransformer\n",
    "import pandas as pd\n",
    "import numpy as np\n",
    "from src.Risk_Analysis.utils.common import save_oject"
   ]
  },
  {
   "cell_type": "code",
   "execution_count": 11,
   "metadata": {},
   "outputs": [],
   "source": [
    "class DataTransformation:\n",
    "    def __init__(self,config):\n",
    "        self.config=config\n",
    "\n",
    "    def get_data_transformation(self):\n",
    "\n",
    "        cat_features=['Days_took_Disbursement']\n",
    "        numerical_features=['Term', 'NoEmp', 'NewExist', 'CreateJob', 'RetainedJob', 'UrbanRural',\n",
    "                            'RevLineCr', 'LowDoc', 'DisbursementGross', 'GrAppv', 'SBA_Appv']\n",
    "\n",
    "\n",
    "\n",
    "        cat_pip=Pipeline(steps=[\n",
    "            ('imputer',SimpleImputer(strategy='most_frequent'))\n",
    "            ])\n",
    "        num_pip=Pipeline(steps=[\n",
    "            ('scaler',StandardScaler()),\n",
    "            ('imputer',SimpleImputer(strategy='median'))\n",
    "            ])\n",
    "        \n",
    "\n",
    "\n",
    "        \n",
    "        preprocessor=ColumnTransformer([\n",
    "            ('num_pip',num_pip,numerical_features),\n",
    "            ('cat_pip',cat_pip,cat_features)\n",
    "            ])\n",
    "        return preprocessor\n",
    "    \n",
    "    def data_transformation_initiated(self):\n",
    "\n",
    "        train_set=pd.read_csv('artifacts\\\\data_ingestion\\\\train.csv')\n",
    "\n",
    "        test_set=pd.read_csv('artifacts\\\\data_ingestion\\\\test.csv')\n",
    "\n",
    "        target_column='MIS_Status'\n",
    "\n",
    "        x_train,x_test,y_train,y_test=(train_set.drop(target_column,axis=1),\n",
    "                                      test_set.drop(target_column,axis=1),\n",
    "                                      train_set[target_column],\n",
    "                                      test_set[target_column])\n",
    "        preprocessor=self.get_data_transformation()\n",
    "\n",
    "        x_train=preprocessor.fit_transform(x_train)\n",
    "        x_test=preprocessor.transform(x_test)\n",
    "\n",
    "        save_oject(self.config.preprocessor_dir,preprocessor)\n",
    "\n",
    "        return x_train,x_test,y_train,y_test\n"
   ]
  },
  {
   "cell_type": "code",
   "execution_count": 12,
   "metadata": {},
   "outputs": [
    {
     "name": "stdout",
     "output_type": "stream",
     "text": [
      "[2023-09-24 13:31:24,819 - Risk Analysis - INFO - directory is created ]\n",
      "[2023-09-24 13:31:24,819 - Risk Analysis - INFO - directory is created ]\n"
     ]
    }
   ],
   "source": [
    "try:\n",
    "    transformation_config=Configuration()\n",
    "    config=transformation_config.get_transformations_config()\n",
    "\n",
    "    data_transformation=DataTransformation(config)\n",
    "    x_train,x_test,y_test,y_train=data_transformation.data_transformation_initiated()\n",
    "\n",
    "except Exception as e:\n",
    "    raise e"
   ]
  },
  {
   "cell_type": "code",
   "execution_count": null,
   "metadata": {},
   "outputs": [],
   "source": []
  }
 ],
 "metadata": {
  "kernelspec": {
   "display_name": "Risk",
   "language": "python",
   "name": "python3"
  },
  "language_info": {
   "codemirror_mode": {
    "name": "ipython",
    "version": 3
   },
   "file_extension": ".py",
   "mimetype": "text/x-python",
   "name": "python",
   "nbconvert_exporter": "python",
   "pygments_lexer": "ipython3",
   "version": "3.8.18"
  },
  "orig_nbformat": 4
 },
 "nbformat": 4,
 "nbformat_minor": 2
}
